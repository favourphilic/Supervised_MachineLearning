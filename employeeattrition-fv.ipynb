{
 "cells": [
  {
   "cell_type": "code",
   "execution_count": 1,
   "id": "c60c8797",
   "metadata": {
    "_cell_guid": "b1076dfc-b9ad-4769-8c92-a6c4dae69d19",
    "_uuid": "8f2839f25d086af736a60e9eeb907d3b93b6e0e5",
    "execution": {
     "iopub.execute_input": "2023-12-06T11:16:39.708157Z",
     "iopub.status.busy": "2023-12-06T11:16:39.707745Z",
     "iopub.status.idle": "2023-12-06T11:16:42.526982Z",
     "shell.execute_reply": "2023-12-06T11:16:42.525488Z"
    },
    "papermill": {
     "duration": 2.841061,
     "end_time": "2023-12-06T11:16:42.529948",
     "exception": false,
     "start_time": "2023-12-06T11:16:39.688887",
     "status": "completed"
    },
    "tags": []
   },
   "outputs": [
    {
     "name": "stdout",
     "output_type": "stream",
     "text": [
      "/kaggle/input/bct-summit/sample_submission.csv\n",
      "/kaggle/input/bct-summit/train.csv\n",
      "/kaggle/input/bct-summit/test.csv\n"
     ]
    }
   ],
   "source": [
    "# This Python 3 environment comes with many helpful analytics libraries installed\n",
    "# It is defined by the kaggle/python Docker image: https://github.com/kaggle/docker-python\n",
    "# For example, here's several helpful packages to load\n",
    "\n",
    "import numpy as np # linear algebra\n",
    "import pandas as pd # data processing, CSV file I/O (e.g. pd.read_csv)\n",
    "import matplotlib.pyplot as plt\n",
    "import seaborn as sns\n",
    "%matplotlib inline\n",
    "\n",
    "from sklearn.model_selection import cross_val_score,KFold,train_test_split\n",
    "from sklearn.compose import ColumnTransformer\n",
    "from sklearn.pipeline import Pipeline\n",
    "from sklearn.preprocessing import OneHotEncoder,OrdinalEncoder, MinMaxScaler, StandardScaler\n",
    "from sklearn.svm import SVR\n",
    "from imblearn.over_sampling import SMOTE, ADASYN, RandomOverSampler\n",
    "from sklearn.ensemble import RandomForestClassifier, AdaBoostClassifier\n",
    "from sklearn.metrics import accuracy_score, classification_report,confusion_matrix, roc_auc_score\n",
    "from sklearn.tree import DecisionTreeClassifier\n",
    "from sklearn.neighbors import KNeighborsClassifier\n",
    "from sklearn.linear_model import LogisticRegression\n",
    "\n",
    "\n",
    "\n",
    "# Input data files are available in the read-only \"../input/\" directory\n",
    "# For example, running this (by clicking run or pressing Shift+Enter) will list all files under the input directory\n",
    "\n",
    "import os\n",
    "for dirname, _, filenames in os.walk('/kaggle/input'):\n",
    "    for filename in filenames:\n",
    "        print(os.path.join(dirname, filename))\n",
    "\n",
    "# You can write up to 20GB to the current directory (/kaggle/working/) that gets preserved as output when you create a version using \"Save & Run All\" \n",
    "# You can also write temporary files to /kaggle/temp/, but they won't be saved outside of the current session"
   ]
  },
  {
   "cell_type": "code",
   "execution_count": 2,
   "id": "4d993114",
   "metadata": {
    "execution": {
     "iopub.execute_input": "2023-12-06T11:16:42.566403Z",
     "iopub.status.busy": "2023-12-06T11:16:42.565755Z",
     "iopub.status.idle": "2023-12-06T11:16:42.614207Z",
     "shell.execute_reply": "2023-12-06T11:16:42.613101Z"
    },
    "papermill": {
     "duration": 0.069634,
     "end_time": "2023-12-06T11:16:42.617141",
     "exception": false,
     "start_time": "2023-12-06T11:16:42.547507",
     "status": "completed"
    },
    "tags": []
   },
   "outputs": [],
   "source": [
    "df= pd.read_csv(\"/kaggle/input/bct-summit/train.csv\")\n",
    "#Change Atttrition from integer dtype type to object dtype\n",
    "df['Attrition'] = df['Attrition'].astype(str)"
   ]
  },
  {
   "cell_type": "code",
   "execution_count": 3,
   "id": "20d4f141",
   "metadata": {
    "execution": {
     "iopub.execute_input": "2023-12-06T11:16:42.654034Z",
     "iopub.status.busy": "2023-12-06T11:16:42.653605Z",
     "iopub.status.idle": "2023-12-06T11:16:42.686240Z",
     "shell.execute_reply": "2023-12-06T11:16:42.685085Z"
    },
    "papermill": {
     "duration": 0.053916,
     "end_time": "2023-12-06T11:16:42.689043",
     "exception": false,
     "start_time": "2023-12-06T11:16:42.635127",
     "status": "completed"
    },
    "tags": []
   },
   "outputs": [
    {
     "data": {
      "text/html": [
       "<div>\n",
       "<style scoped>\n",
       "    .dataframe tbody tr th:only-of-type {\n",
       "        vertical-align: middle;\n",
       "    }\n",
       "\n",
       "    .dataframe tbody tr th {\n",
       "        vertical-align: top;\n",
       "    }\n",
       "\n",
       "    .dataframe thead th {\n",
       "        text-align: right;\n",
       "    }\n",
       "</style>\n",
       "<table border=\"1\" class=\"dataframe\">\n",
       "  <thead>\n",
       "    <tr style=\"text-align: right;\">\n",
       "      <th></th>\n",
       "      <th>id</th>\n",
       "      <th>Age</th>\n",
       "      <th>BusinessTravel</th>\n",
       "      <th>DailyRate</th>\n",
       "      <th>Department</th>\n",
       "      <th>DistanceFromHome</th>\n",
       "      <th>Education</th>\n",
       "      <th>EducationField</th>\n",
       "      <th>EmployeeCount</th>\n",
       "      <th>EnvironmentSatisfaction</th>\n",
       "      <th>...</th>\n",
       "      <th>StandardHours</th>\n",
       "      <th>StockOptionLevel</th>\n",
       "      <th>TotalWorkingYears</th>\n",
       "      <th>TrainingTimesLastYear</th>\n",
       "      <th>WorkLifeBalance</th>\n",
       "      <th>YearsAtCompany</th>\n",
       "      <th>YearsInCurrentRole</th>\n",
       "      <th>YearsSinceLastPromotion</th>\n",
       "      <th>YearsWithCurrManager</th>\n",
       "      <th>Attrition</th>\n",
       "    </tr>\n",
       "  </thead>\n",
       "  <tbody>\n",
       "    <tr>\n",
       "      <th>0</th>\n",
       "      <td>0</td>\n",
       "      <td>36</td>\n",
       "      <td>Travel_Frequently</td>\n",
       "      <td>599</td>\n",
       "      <td>Research &amp; Development</td>\n",
       "      <td>24</td>\n",
       "      <td>3</td>\n",
       "      <td>Medical</td>\n",
       "      <td>1</td>\n",
       "      <td>4</td>\n",
       "      <td>...</td>\n",
       "      <td>80</td>\n",
       "      <td>1</td>\n",
       "      <td>10</td>\n",
       "      <td>2</td>\n",
       "      <td>3</td>\n",
       "      <td>10</td>\n",
       "      <td>0</td>\n",
       "      <td>7</td>\n",
       "      <td>8</td>\n",
       "      <td>0</td>\n",
       "    </tr>\n",
       "    <tr>\n",
       "      <th>1</th>\n",
       "      <td>1</td>\n",
       "      <td>35</td>\n",
       "      <td>Travel_Rarely</td>\n",
       "      <td>921</td>\n",
       "      <td>Sales</td>\n",
       "      <td>8</td>\n",
       "      <td>3</td>\n",
       "      <td>Other</td>\n",
       "      <td>1</td>\n",
       "      <td>1</td>\n",
       "      <td>...</td>\n",
       "      <td>80</td>\n",
       "      <td>1</td>\n",
       "      <td>4</td>\n",
       "      <td>3</td>\n",
       "      <td>3</td>\n",
       "      <td>4</td>\n",
       "      <td>2</td>\n",
       "      <td>0</td>\n",
       "      <td>3</td>\n",
       "      <td>0</td>\n",
       "    </tr>\n",
       "    <tr>\n",
       "      <th>2</th>\n",
       "      <td>2</td>\n",
       "      <td>32</td>\n",
       "      <td>Travel_Rarely</td>\n",
       "      <td>718</td>\n",
       "      <td>Sales</td>\n",
       "      <td>26</td>\n",
       "      <td>3</td>\n",
       "      <td>Marketing</td>\n",
       "      <td>1</td>\n",
       "      <td>3</td>\n",
       "      <td>...</td>\n",
       "      <td>80</td>\n",
       "      <td>2</td>\n",
       "      <td>4</td>\n",
       "      <td>3</td>\n",
       "      <td>3</td>\n",
       "      <td>3</td>\n",
       "      <td>2</td>\n",
       "      <td>1</td>\n",
       "      <td>2</td>\n",
       "      <td>0</td>\n",
       "    </tr>\n",
       "    <tr>\n",
       "      <th>3</th>\n",
       "      <td>3</td>\n",
       "      <td>38</td>\n",
       "      <td>Travel_Rarely</td>\n",
       "      <td>1488</td>\n",
       "      <td>Research &amp; Development</td>\n",
       "      <td>2</td>\n",
       "      <td>3</td>\n",
       "      <td>Medical</td>\n",
       "      <td>1</td>\n",
       "      <td>3</td>\n",
       "      <td>...</td>\n",
       "      <td>80</td>\n",
       "      <td>0</td>\n",
       "      <td>15</td>\n",
       "      <td>1</td>\n",
       "      <td>1</td>\n",
       "      <td>6</td>\n",
       "      <td>0</td>\n",
       "      <td>0</td>\n",
       "      <td>2</td>\n",
       "      <td>0</td>\n",
       "    </tr>\n",
       "    <tr>\n",
       "      <th>4</th>\n",
       "      <td>4</td>\n",
       "      <td>50</td>\n",
       "      <td>Travel_Rarely</td>\n",
       "      <td>1017</td>\n",
       "      <td>Research &amp; Development</td>\n",
       "      <td>5</td>\n",
       "      <td>4</td>\n",
       "      <td>Medical</td>\n",
       "      <td>1</td>\n",
       "      <td>2</td>\n",
       "      <td>...</td>\n",
       "      <td>80</td>\n",
       "      <td>0</td>\n",
       "      <td>31</td>\n",
       "      <td>0</td>\n",
       "      <td>3</td>\n",
       "      <td>31</td>\n",
       "      <td>14</td>\n",
       "      <td>4</td>\n",
       "      <td>10</td>\n",
       "      <td>1</td>\n",
       "    </tr>\n",
       "  </tbody>\n",
       "</table>\n",
       "<p>5 rows × 35 columns</p>\n",
       "</div>"
      ],
      "text/plain": [
       "   id  Age     BusinessTravel  DailyRate              Department  \\\n",
       "0   0   36  Travel_Frequently        599  Research & Development   \n",
       "1   1   35      Travel_Rarely        921                   Sales   \n",
       "2   2   32      Travel_Rarely        718                   Sales   \n",
       "3   3   38      Travel_Rarely       1488  Research & Development   \n",
       "4   4   50      Travel_Rarely       1017  Research & Development   \n",
       "\n",
       "   DistanceFromHome  Education EducationField  EmployeeCount  \\\n",
       "0                24          3        Medical              1   \n",
       "1                 8          3          Other              1   \n",
       "2                26          3      Marketing              1   \n",
       "3                 2          3        Medical              1   \n",
       "4                 5          4        Medical              1   \n",
       "\n",
       "   EnvironmentSatisfaction  ... StandardHours  StockOptionLevel  \\\n",
       "0                        4  ...            80                 1   \n",
       "1                        1  ...            80                 1   \n",
       "2                        3  ...            80                 2   \n",
       "3                        3  ...            80                 0   \n",
       "4                        2  ...            80                 0   \n",
       "\n",
       "   TotalWorkingYears  TrainingTimesLastYear WorkLifeBalance  YearsAtCompany  \\\n",
       "0                 10                      2               3              10   \n",
       "1                  4                      3               3               4   \n",
       "2                  4                      3               3               3   \n",
       "3                 15                      1               1               6   \n",
       "4                 31                      0               3              31   \n",
       "\n",
       "  YearsInCurrentRole  YearsSinceLastPromotion  YearsWithCurrManager  Attrition  \n",
       "0                  0                        7                     8          0  \n",
       "1                  2                        0                     3          0  \n",
       "2                  2                        1                     2          0  \n",
       "3                  0                        0                     2          0  \n",
       "4                 14                        4                    10          1  \n",
       "\n",
       "[5 rows x 35 columns]"
      ]
     },
     "execution_count": 3,
     "metadata": {},
     "output_type": "execute_result"
    }
   ],
   "source": [
    "df.head()"
   ]
  },
  {
   "cell_type": "code",
   "execution_count": 4,
   "id": "86b94c0c",
   "metadata": {
    "execution": {
     "iopub.execute_input": "2023-12-06T11:16:42.726395Z",
     "iopub.status.busy": "2023-12-06T11:16:42.725364Z",
     "iopub.status.idle": "2023-12-06T11:16:42.818242Z",
     "shell.execute_reply": "2023-12-06T11:16:42.817145Z"
    },
    "papermill": {
     "duration": 0.114456,
     "end_time": "2023-12-06T11:16:42.820943",
     "exception": false,
     "start_time": "2023-12-06T11:16:42.706487",
     "status": "completed"
    },
    "tags": []
   },
   "outputs": [
    {
     "data": {
      "text/html": [
       "<div>\n",
       "<style scoped>\n",
       "    .dataframe tbody tr th:only-of-type {\n",
       "        vertical-align: middle;\n",
       "    }\n",
       "\n",
       "    .dataframe tbody tr th {\n",
       "        vertical-align: top;\n",
       "    }\n",
       "\n",
       "    .dataframe thead th {\n",
       "        text-align: right;\n",
       "    }\n",
       "</style>\n",
       "<table border=\"1\" class=\"dataframe\">\n",
       "  <thead>\n",
       "    <tr style=\"text-align: right;\">\n",
       "      <th></th>\n",
       "      <th>count</th>\n",
       "      <th>mean</th>\n",
       "      <th>std</th>\n",
       "      <th>min</th>\n",
       "      <th>25%</th>\n",
       "      <th>50%</th>\n",
       "      <th>75%</th>\n",
       "      <th>max</th>\n",
       "    </tr>\n",
       "  </thead>\n",
       "  <tbody>\n",
       "    <tr>\n",
       "      <th>id</th>\n",
       "      <td>1677.0</td>\n",
       "      <td>838.000000</td>\n",
       "      <td>484.252517</td>\n",
       "      <td>0.0</td>\n",
       "      <td>419.0</td>\n",
       "      <td>838.0</td>\n",
       "      <td>1257.0</td>\n",
       "      <td>1676.0</td>\n",
       "    </tr>\n",
       "    <tr>\n",
       "      <th>Age</th>\n",
       "      <td>1677.0</td>\n",
       "      <td>36.036971</td>\n",
       "      <td>8.507112</td>\n",
       "      <td>18.0</td>\n",
       "      <td>30.0</td>\n",
       "      <td>35.0</td>\n",
       "      <td>41.0</td>\n",
       "      <td>60.0</td>\n",
       "    </tr>\n",
       "    <tr>\n",
       "      <th>DailyRate</th>\n",
       "      <td>1677.0</td>\n",
       "      <td>892.749553</td>\n",
       "      <td>374.496259</td>\n",
       "      <td>107.0</td>\n",
       "      <td>589.0</td>\n",
       "      <td>890.0</td>\n",
       "      <td>1223.0</td>\n",
       "      <td>3921.0</td>\n",
       "    </tr>\n",
       "    <tr>\n",
       "      <th>DistanceFromHome</th>\n",
       "      <td>1677.0</td>\n",
       "      <td>8.683959</td>\n",
       "      <td>7.826143</td>\n",
       "      <td>1.0</td>\n",
       "      <td>2.0</td>\n",
       "      <td>7.0</td>\n",
       "      <td>12.0</td>\n",
       "      <td>29.0</td>\n",
       "    </tr>\n",
       "    <tr>\n",
       "      <th>Education</th>\n",
       "      <td>1677.0</td>\n",
       "      <td>2.937984</td>\n",
       "      <td>1.039078</td>\n",
       "      <td>1.0</td>\n",
       "      <td>2.0</td>\n",
       "      <td>3.0</td>\n",
       "      <td>4.0</td>\n",
       "      <td>15.0</td>\n",
       "    </tr>\n",
       "    <tr>\n",
       "      <th>EmployeeCount</th>\n",
       "      <td>1677.0</td>\n",
       "      <td>1.000000</td>\n",
       "      <td>0.000000</td>\n",
       "      <td>1.0</td>\n",
       "      <td>1.0</td>\n",
       "      <td>1.0</td>\n",
       "      <td>1.0</td>\n",
       "      <td>1.0</td>\n",
       "    </tr>\n",
       "    <tr>\n",
       "      <th>EnvironmentSatisfaction</th>\n",
       "      <td>1677.0</td>\n",
       "      <td>2.757901</td>\n",
       "      <td>1.086835</td>\n",
       "      <td>1.0</td>\n",
       "      <td>2.0</td>\n",
       "      <td>3.0</td>\n",
       "      <td>4.0</td>\n",
       "      <td>4.0</td>\n",
       "    </tr>\n",
       "    <tr>\n",
       "      <th>HourlyRate</th>\n",
       "      <td>1677.0</td>\n",
       "      <td>67.798450</td>\n",
       "      <td>19.435928</td>\n",
       "      <td>30.0</td>\n",
       "      <td>51.0</td>\n",
       "      <td>69.0</td>\n",
       "      <td>84.0</td>\n",
       "      <td>100.0</td>\n",
       "    </tr>\n",
       "    <tr>\n",
       "      <th>JobInvolvement</th>\n",
       "      <td>1677.0</td>\n",
       "      <td>2.782349</td>\n",
       "      <td>0.650664</td>\n",
       "      <td>1.0</td>\n",
       "      <td>2.0</td>\n",
       "      <td>3.0</td>\n",
       "      <td>3.0</td>\n",
       "      <td>4.0</td>\n",
       "    </tr>\n",
       "    <tr>\n",
       "      <th>JobLevel</th>\n",
       "      <td>1677.0</td>\n",
       "      <td>1.998807</td>\n",
       "      <td>1.083065</td>\n",
       "      <td>1.0</td>\n",
       "      <td>1.0</td>\n",
       "      <td>2.0</td>\n",
       "      <td>2.0</td>\n",
       "      <td>7.0</td>\n",
       "    </tr>\n",
       "    <tr>\n",
       "      <th>JobSatisfaction</th>\n",
       "      <td>1677.0</td>\n",
       "      <td>2.791890</td>\n",
       "      <td>1.097396</td>\n",
       "      <td>1.0</td>\n",
       "      <td>2.0</td>\n",
       "      <td>3.0</td>\n",
       "      <td>4.0</td>\n",
       "      <td>4.0</td>\n",
       "    </tr>\n",
       "    <tr>\n",
       "      <th>MonthlyIncome</th>\n",
       "      <td>1677.0</td>\n",
       "      <td>6196.049493</td>\n",
       "      <td>4520.050754</td>\n",
       "      <td>1010.0</td>\n",
       "      <td>2875.0</td>\n",
       "      <td>4834.0</td>\n",
       "      <td>7403.0</td>\n",
       "      <td>19973.0</td>\n",
       "    </tr>\n",
       "    <tr>\n",
       "      <th>MonthlyRate</th>\n",
       "      <td>1677.0</td>\n",
       "      <td>14770.048301</td>\n",
       "      <td>7112.203888</td>\n",
       "      <td>636.0</td>\n",
       "      <td>8509.0</td>\n",
       "      <td>15332.0</td>\n",
       "      <td>20990.0</td>\n",
       "      <td>26999.0</td>\n",
       "    </tr>\n",
       "    <tr>\n",
       "      <th>NumCompaniesWorked</th>\n",
       "      <td>1677.0</td>\n",
       "      <td>2.574836</td>\n",
       "      <td>2.480215</td>\n",
       "      <td>0.0</td>\n",
       "      <td>1.0</td>\n",
       "      <td>1.0</td>\n",
       "      <td>4.0</td>\n",
       "      <td>9.0</td>\n",
       "    </tr>\n",
       "    <tr>\n",
       "      <th>PercentSalaryHike</th>\n",
       "      <td>1677.0</td>\n",
       "      <td>14.903399</td>\n",
       "      <td>3.420801</td>\n",
       "      <td>11.0</td>\n",
       "      <td>12.0</td>\n",
       "      <td>14.0</td>\n",
       "      <td>17.0</td>\n",
       "      <td>25.0</td>\n",
       "    </tr>\n",
       "    <tr>\n",
       "      <th>PerformanceRating</th>\n",
       "      <td>1677.0</td>\n",
       "      <td>3.127609</td>\n",
       "      <td>0.333753</td>\n",
       "      <td>3.0</td>\n",
       "      <td>3.0</td>\n",
       "      <td>3.0</td>\n",
       "      <td>3.0</td>\n",
       "      <td>4.0</td>\n",
       "    </tr>\n",
       "    <tr>\n",
       "      <th>RelationshipSatisfaction</th>\n",
       "      <td>1677.0</td>\n",
       "      <td>2.751342</td>\n",
       "      <td>1.077905</td>\n",
       "      <td>1.0</td>\n",
       "      <td>2.0</td>\n",
       "      <td>3.0</td>\n",
       "      <td>4.0</td>\n",
       "      <td>4.0</td>\n",
       "    </tr>\n",
       "    <tr>\n",
       "      <th>StandardHours</th>\n",
       "      <td>1677.0</td>\n",
       "      <td>80.000000</td>\n",
       "      <td>0.000000</td>\n",
       "      <td>80.0</td>\n",
       "      <td>80.0</td>\n",
       "      <td>80.0</td>\n",
       "      <td>80.0</td>\n",
       "      <td>80.0</td>\n",
       "    </tr>\n",
       "    <tr>\n",
       "      <th>StockOptionLevel</th>\n",
       "      <td>1677.0</td>\n",
       "      <td>0.721527</td>\n",
       "      <td>0.771259</td>\n",
       "      <td>0.0</td>\n",
       "      <td>0.0</td>\n",
       "      <td>1.0</td>\n",
       "      <td>1.0</td>\n",
       "      <td>3.0</td>\n",
       "    </tr>\n",
       "    <tr>\n",
       "      <th>TotalWorkingYears</th>\n",
       "      <td>1677.0</td>\n",
       "      <td>10.709600</td>\n",
       "      <td>7.255135</td>\n",
       "      <td>0.0</td>\n",
       "      <td>6.0</td>\n",
       "      <td>9.0</td>\n",
       "      <td>14.0</td>\n",
       "      <td>41.0</td>\n",
       "    </tr>\n",
       "    <tr>\n",
       "      <th>TrainingTimesLastYear</th>\n",
       "      <td>1677.0</td>\n",
       "      <td>2.732856</td>\n",
       "      <td>1.145271</td>\n",
       "      <td>0.0</td>\n",
       "      <td>2.0</td>\n",
       "      <td>3.0</td>\n",
       "      <td>3.0</td>\n",
       "      <td>6.0</td>\n",
       "    </tr>\n",
       "    <tr>\n",
       "      <th>WorkLifeBalance</th>\n",
       "      <td>1677.0</td>\n",
       "      <td>2.769827</td>\n",
       "      <td>0.647721</td>\n",
       "      <td>1.0</td>\n",
       "      <td>2.0</td>\n",
       "      <td>3.0</td>\n",
       "      <td>3.0</td>\n",
       "      <td>4.0</td>\n",
       "    </tr>\n",
       "    <tr>\n",
       "      <th>YearsAtCompany</th>\n",
       "      <td>1677.0</td>\n",
       "      <td>6.806798</td>\n",
       "      <td>5.883282</td>\n",
       "      <td>0.0</td>\n",
       "      <td>3.0</td>\n",
       "      <td>5.0</td>\n",
       "      <td>9.0</td>\n",
       "      <td>41.0</td>\n",
       "    </tr>\n",
       "    <tr>\n",
       "      <th>YearsInCurrentRole</th>\n",
       "      <td>1677.0</td>\n",
       "      <td>4.144305</td>\n",
       "      <td>3.583398</td>\n",
       "      <td>0.0</td>\n",
       "      <td>2.0</td>\n",
       "      <td>3.0</td>\n",
       "      <td>7.0</td>\n",
       "      <td>18.0</td>\n",
       "    </tr>\n",
       "    <tr>\n",
       "      <th>YearsSinceLastPromotion</th>\n",
       "      <td>1677.0</td>\n",
       "      <td>1.978533</td>\n",
       "      <td>3.045716</td>\n",
       "      <td>0.0</td>\n",
       "      <td>0.0</td>\n",
       "      <td>1.0</td>\n",
       "      <td>2.0</td>\n",
       "      <td>15.0</td>\n",
       "    </tr>\n",
       "    <tr>\n",
       "      <th>YearsWithCurrManager</th>\n",
       "      <td>1677.0</td>\n",
       "      <td>4.186643</td>\n",
       "      <td>3.576189</td>\n",
       "      <td>0.0</td>\n",
       "      <td>2.0</td>\n",
       "      <td>3.0</td>\n",
       "      <td>7.0</td>\n",
       "      <td>17.0</td>\n",
       "    </tr>\n",
       "  </tbody>\n",
       "</table>\n",
       "</div>"
      ],
      "text/plain": [
       "                           count          mean          std     min     25%  \\\n",
       "id                        1677.0    838.000000   484.252517     0.0   419.0   \n",
       "Age                       1677.0     36.036971     8.507112    18.0    30.0   \n",
       "DailyRate                 1677.0    892.749553   374.496259   107.0   589.0   \n",
       "DistanceFromHome          1677.0      8.683959     7.826143     1.0     2.0   \n",
       "Education                 1677.0      2.937984     1.039078     1.0     2.0   \n",
       "EmployeeCount             1677.0      1.000000     0.000000     1.0     1.0   \n",
       "EnvironmentSatisfaction   1677.0      2.757901     1.086835     1.0     2.0   \n",
       "HourlyRate                1677.0     67.798450    19.435928    30.0    51.0   \n",
       "JobInvolvement            1677.0      2.782349     0.650664     1.0     2.0   \n",
       "JobLevel                  1677.0      1.998807     1.083065     1.0     1.0   \n",
       "JobSatisfaction           1677.0      2.791890     1.097396     1.0     2.0   \n",
       "MonthlyIncome             1677.0   6196.049493  4520.050754  1010.0  2875.0   \n",
       "MonthlyRate               1677.0  14770.048301  7112.203888   636.0  8509.0   \n",
       "NumCompaniesWorked        1677.0      2.574836     2.480215     0.0     1.0   \n",
       "PercentSalaryHike         1677.0     14.903399     3.420801    11.0    12.0   \n",
       "PerformanceRating         1677.0      3.127609     0.333753     3.0     3.0   \n",
       "RelationshipSatisfaction  1677.0      2.751342     1.077905     1.0     2.0   \n",
       "StandardHours             1677.0     80.000000     0.000000    80.0    80.0   \n",
       "StockOptionLevel          1677.0      0.721527     0.771259     0.0     0.0   \n",
       "TotalWorkingYears         1677.0     10.709600     7.255135     0.0     6.0   \n",
       "TrainingTimesLastYear     1677.0      2.732856     1.145271     0.0     2.0   \n",
       "WorkLifeBalance           1677.0      2.769827     0.647721     1.0     2.0   \n",
       "YearsAtCompany            1677.0      6.806798     5.883282     0.0     3.0   \n",
       "YearsInCurrentRole        1677.0      4.144305     3.583398     0.0     2.0   \n",
       "YearsSinceLastPromotion   1677.0      1.978533     3.045716     0.0     0.0   \n",
       "YearsWithCurrManager      1677.0      4.186643     3.576189     0.0     2.0   \n",
       "\n",
       "                              50%      75%      max  \n",
       "id                          838.0   1257.0   1676.0  \n",
       "Age                          35.0     41.0     60.0  \n",
       "DailyRate                   890.0   1223.0   3921.0  \n",
       "DistanceFromHome              7.0     12.0     29.0  \n",
       "Education                     3.0      4.0     15.0  \n",
       "EmployeeCount                 1.0      1.0      1.0  \n",
       "EnvironmentSatisfaction       3.0      4.0      4.0  \n",
       "HourlyRate                   69.0     84.0    100.0  \n",
       "JobInvolvement                3.0      3.0      4.0  \n",
       "JobLevel                      2.0      2.0      7.0  \n",
       "JobSatisfaction               3.0      4.0      4.0  \n",
       "MonthlyIncome              4834.0   7403.0  19973.0  \n",
       "MonthlyRate               15332.0  20990.0  26999.0  \n",
       "NumCompaniesWorked            1.0      4.0      9.0  \n",
       "PercentSalaryHike            14.0     17.0     25.0  \n",
       "PerformanceRating             3.0      3.0      4.0  \n",
       "RelationshipSatisfaction      3.0      4.0      4.0  \n",
       "StandardHours                80.0     80.0     80.0  \n",
       "StockOptionLevel              1.0      1.0      3.0  \n",
       "TotalWorkingYears             9.0     14.0     41.0  \n",
       "TrainingTimesLastYear         3.0      3.0      6.0  \n",
       "WorkLifeBalance               3.0      3.0      4.0  \n",
       "YearsAtCompany                5.0      9.0     41.0  \n",
       "YearsInCurrentRole            3.0      7.0     18.0  \n",
       "YearsSinceLastPromotion       1.0      2.0     15.0  \n",
       "YearsWithCurrManager          3.0      7.0     17.0  "
      ]
     },
     "execution_count": 4,
     "metadata": {},
     "output_type": "execute_result"
    }
   ],
   "source": [
    "df.describe().T"
   ]
  },
  {
   "cell_type": "code",
   "execution_count": 5,
   "id": "2fb40372",
   "metadata": {
    "execution": {
     "iopub.execute_input": "2023-12-06T11:16:42.859037Z",
     "iopub.status.busy": "2023-12-06T11:16:42.858581Z",
     "iopub.status.idle": "2023-12-06T11:16:42.893312Z",
     "shell.execute_reply": "2023-12-06T11:16:42.892329Z"
    },
    "papermill": {
     "duration": 0.056365,
     "end_time": "2023-12-06T11:16:42.895560",
     "exception": false,
     "start_time": "2023-12-06T11:16:42.839195",
     "status": "completed"
    },
    "tags": []
   },
   "outputs": [
    {
     "data": {
      "text/html": [
       "<div>\n",
       "<style scoped>\n",
       "    .dataframe tbody tr th:only-of-type {\n",
       "        vertical-align: middle;\n",
       "    }\n",
       "\n",
       "    .dataframe tbody tr th {\n",
       "        vertical-align: top;\n",
       "    }\n",
       "\n",
       "    .dataframe thead th {\n",
       "        text-align: right;\n",
       "    }\n",
       "</style>\n",
       "<table border=\"1\" class=\"dataframe\">\n",
       "  <thead>\n",
       "    <tr style=\"text-align: right;\">\n",
       "      <th></th>\n",
       "      <th>count</th>\n",
       "      <th>unique</th>\n",
       "      <th>top</th>\n",
       "      <th>freq</th>\n",
       "    </tr>\n",
       "  </thead>\n",
       "  <tbody>\n",
       "    <tr>\n",
       "      <th>BusinessTravel</th>\n",
       "      <td>1677</td>\n",
       "      <td>3</td>\n",
       "      <td>Travel_Rarely</td>\n",
       "      <td>1290</td>\n",
       "    </tr>\n",
       "    <tr>\n",
       "      <th>Department</th>\n",
       "      <td>1677</td>\n",
       "      <td>3</td>\n",
       "      <td>Research &amp; Development</td>\n",
       "      <td>1167</td>\n",
       "    </tr>\n",
       "    <tr>\n",
       "      <th>EducationField</th>\n",
       "      <td>1677</td>\n",
       "      <td>6</td>\n",
       "      <td>Life Sciences</td>\n",
       "      <td>775</td>\n",
       "    </tr>\n",
       "    <tr>\n",
       "      <th>Gender</th>\n",
       "      <td>1677</td>\n",
       "      <td>2</td>\n",
       "      <td>Male</td>\n",
       "      <td>1064</td>\n",
       "    </tr>\n",
       "    <tr>\n",
       "      <th>JobRole</th>\n",
       "      <td>1677</td>\n",
       "      <td>9</td>\n",
       "      <td>Sales Executive</td>\n",
       "      <td>355</td>\n",
       "    </tr>\n",
       "    <tr>\n",
       "      <th>MaritalStatus</th>\n",
       "      <td>1677</td>\n",
       "      <td>3</td>\n",
       "      <td>Married</td>\n",
       "      <td>773</td>\n",
       "    </tr>\n",
       "    <tr>\n",
       "      <th>Over18</th>\n",
       "      <td>1677</td>\n",
       "      <td>1</td>\n",
       "      <td>Y</td>\n",
       "      <td>1677</td>\n",
       "    </tr>\n",
       "    <tr>\n",
       "      <th>OverTime</th>\n",
       "      <td>1677</td>\n",
       "      <td>2</td>\n",
       "      <td>No</td>\n",
       "      <td>1277</td>\n",
       "    </tr>\n",
       "    <tr>\n",
       "      <th>Attrition</th>\n",
       "      <td>1677</td>\n",
       "      <td>2</td>\n",
       "      <td>0</td>\n",
       "      <td>1477</td>\n",
       "    </tr>\n",
       "  </tbody>\n",
       "</table>\n",
       "</div>"
      ],
      "text/plain": [
       "               count unique                     top  freq\n",
       "BusinessTravel  1677      3           Travel_Rarely  1290\n",
       "Department      1677      3  Research & Development  1167\n",
       "EducationField  1677      6           Life Sciences   775\n",
       "Gender          1677      2                    Male  1064\n",
       "JobRole         1677      9         Sales Executive   355\n",
       "MaritalStatus   1677      3                 Married   773\n",
       "Over18          1677      1                       Y  1677\n",
       "OverTime        1677      2                      No  1277\n",
       "Attrition       1677      2                       0  1477"
      ]
     },
     "execution_count": 5,
     "metadata": {},
     "output_type": "execute_result"
    }
   ],
   "source": [
    "df.describe(exclude=np.number).T"
   ]
  },
  {
   "cell_type": "code",
   "execution_count": 6,
   "id": "300062af",
   "metadata": {
    "execution": {
     "iopub.execute_input": "2023-12-06T11:16:42.934965Z",
     "iopub.status.busy": "2023-12-06T11:16:42.933932Z",
     "iopub.status.idle": "2023-12-06T11:16:42.938687Z",
     "shell.execute_reply": "2023-12-06T11:16:42.937800Z"
    },
    "papermill": {
     "duration": 0.026472,
     "end_time": "2023-12-06T11:16:42.940773",
     "exception": false,
     "start_time": "2023-12-06T11:16:42.914301",
     "status": "completed"
    },
    "tags": []
   },
   "outputs": [],
   "source": [
    "#drop certain columns that have constant values throught and also the ID column.\n",
    "col_to_drop1= ['id','EmployeeCount','StandardHours','Over18']"
   ]
  },
  {
   "cell_type": "code",
   "execution_count": 7,
   "id": "202d3219",
   "metadata": {
    "execution": {
     "iopub.execute_input": "2023-12-06T11:16:42.979779Z",
     "iopub.status.busy": "2023-12-06T11:16:42.979046Z",
     "iopub.status.idle": "2023-12-06T11:16:42.986221Z",
     "shell.execute_reply": "2023-12-06T11:16:42.985131Z"
    },
    "papermill": {
     "duration": 0.029821,
     "end_time": "2023-12-06T11:16:42.988956",
     "exception": false,
     "start_time": "2023-12-06T11:16:42.959135",
     "status": "completed"
    },
    "tags": []
   },
   "outputs": [],
   "source": [
    "data = df.drop(col_to_drop1, axis=1)"
   ]
  },
  {
   "cell_type": "code",
   "execution_count": 8,
   "id": "a71499dc",
   "metadata": {
    "execution": {
     "iopub.execute_input": "2023-12-06T11:16:43.027639Z",
     "iopub.status.busy": "2023-12-06T11:16:43.027193Z",
     "iopub.status.idle": "2023-12-06T11:16:43.053213Z",
     "shell.execute_reply": "2023-12-06T11:16:43.051864Z"
    },
    "papermill": {
     "duration": 0.048617,
     "end_time": "2023-12-06T11:16:43.055973",
     "exception": false,
     "start_time": "2023-12-06T11:16:43.007356",
     "status": "completed"
    },
    "tags": []
   },
   "outputs": [],
   "source": [
    "test= pd.read_csv(\"/kaggle/input/bct-summit/test.csv\")\n",
    "test= test.drop(col_to_drop1, axis=1)"
   ]
  },
  {
   "cell_type": "code",
   "execution_count": 9,
   "id": "12fd0004",
   "metadata": {
    "execution": {
     "iopub.execute_input": "2023-12-06T11:16:43.095964Z",
     "iopub.status.busy": "2023-12-06T11:16:43.095465Z",
     "iopub.status.idle": "2023-12-06T11:16:43.121054Z",
     "shell.execute_reply": "2023-12-06T11:16:43.119906Z"
    },
    "papermill": {
     "duration": 0.050159,
     "end_time": "2023-12-06T11:16:43.124540",
     "exception": false,
     "start_time": "2023-12-06T11:16:43.074381",
     "status": "completed"
    },
    "tags": []
   },
   "outputs": [
    {
     "name": "stdout",
     "output_type": "stream",
     "text": [
      "<class 'pandas.core.frame.DataFrame'>\n",
      "RangeIndex: 1677 entries, 0 to 1676\n",
      "Data columns (total 31 columns):\n",
      " #   Column                    Non-Null Count  Dtype \n",
      "---  ------                    --------------  ----- \n",
      " 0   Age                       1677 non-null   int64 \n",
      " 1   BusinessTravel            1677 non-null   object\n",
      " 2   DailyRate                 1677 non-null   int64 \n",
      " 3   Department                1677 non-null   object\n",
      " 4   DistanceFromHome          1677 non-null   int64 \n",
      " 5   Education                 1677 non-null   int64 \n",
      " 6   EducationField            1677 non-null   object\n",
      " 7   EnvironmentSatisfaction   1677 non-null   int64 \n",
      " 8   Gender                    1677 non-null   object\n",
      " 9   HourlyRate                1677 non-null   int64 \n",
      " 10  JobInvolvement            1677 non-null   int64 \n",
      " 11  JobLevel                  1677 non-null   int64 \n",
      " 12  JobRole                   1677 non-null   object\n",
      " 13  JobSatisfaction           1677 non-null   int64 \n",
      " 14  MaritalStatus             1677 non-null   object\n",
      " 15  MonthlyIncome             1677 non-null   int64 \n",
      " 16  MonthlyRate               1677 non-null   int64 \n",
      " 17  NumCompaniesWorked        1677 non-null   int64 \n",
      " 18  OverTime                  1677 non-null   object\n",
      " 19  PercentSalaryHike         1677 non-null   int64 \n",
      " 20  PerformanceRating         1677 non-null   int64 \n",
      " 21  RelationshipSatisfaction  1677 non-null   int64 \n",
      " 22  StockOptionLevel          1677 non-null   int64 \n",
      " 23  TotalWorkingYears         1677 non-null   int64 \n",
      " 24  TrainingTimesLastYear     1677 non-null   int64 \n",
      " 25  WorkLifeBalance           1677 non-null   int64 \n",
      " 26  YearsAtCompany            1677 non-null   int64 \n",
      " 27  YearsInCurrentRole        1677 non-null   int64 \n",
      " 28  YearsSinceLastPromotion   1677 non-null   int64 \n",
      " 29  YearsWithCurrManager      1677 non-null   int64 \n",
      " 30  Attrition                 1677 non-null   object\n",
      "dtypes: int64(23), object(8)\n",
      "memory usage: 406.3+ KB\n"
     ]
    }
   ],
   "source": [
    "data.info()"
   ]
  },
  {
   "cell_type": "code",
   "execution_count": 10,
   "id": "6ae106cd",
   "metadata": {
    "execution": {
     "iopub.execute_input": "2023-12-06T11:16:43.164738Z",
     "iopub.status.busy": "2023-12-06T11:16:43.163581Z",
     "iopub.status.idle": "2023-12-06T11:16:43.170316Z",
     "shell.execute_reply": "2023-12-06T11:16:43.169173Z"
    },
    "papermill": {
     "duration": 0.029668,
     "end_time": "2023-12-06T11:16:43.172894",
     "exception": false,
     "start_time": "2023-12-06T11:16:43.143226",
     "status": "completed"
    },
    "tags": []
   },
   "outputs": [
    {
     "data": {
      "text/plain": [
       "(1677, 31)"
      ]
     },
     "execution_count": 10,
     "metadata": {},
     "output_type": "execute_result"
    }
   ],
   "source": [
    "data.shape"
   ]
  },
  {
   "cell_type": "code",
   "execution_count": 11,
   "id": "e4bd9d42",
   "metadata": {
    "execution": {
     "iopub.execute_input": "2023-12-06T11:16:43.212560Z",
     "iopub.status.busy": "2023-12-06T11:16:43.212124Z",
     "iopub.status.idle": "2023-12-06T11:16:46.988714Z",
     "shell.execute_reply": "2023-12-06T11:16:46.987646Z"
    },
    "papermill": {
     "duration": 3.799402,
     "end_time": "2023-12-06T11:16:46.991475",
     "exception": false,
     "start_time": "2023-12-06T11:16:43.192073",
     "status": "completed"
    },
    "tags": []
   },
   "outputs": [
    {
     "data": {
      "image/png": "[encoded data removed]",
      "text/plain": [
       "<Figure size 640x480 with 25 Axes>"
      ]
     },
     "metadata": {},
     "output_type": "display_data"
    }
   ],
   "source": [
    "fig = data.hist(xlabelsize=4, ylabelsize=4)\n",
    "[x.title.set_size(4) for x in fig.ravel()]\n",
    "# show the plot\n",
    "plt.show()\n"
   ]
  },
  {
   "cell_type": "code",
   "execution_count": 12,
   "id": "38d4c913",
   "metadata": {
    "execution": {
     "iopub.execute_input": "2023-12-06T11:16:47.099919Z",
     "iopub.status.busy": "2023-12-06T11:16:47.099150Z",
     "iopub.status.idle": "2023-12-06T11:16:47.831745Z",
     "shell.execute_reply": "2023-12-06T11:16:47.830882Z"
    },
    "papermill": {
     "duration": 0.823434,
     "end_time": "2023-12-06T11:16:47.834580",
     "exception": false,
     "start_time": "2023-12-06T11:16:47.011146",
     "status": "completed"
    },
    "tags": []
   },
   "outputs": [
    {
     "data": {
      "image/png": "[encoded data removed]",
      "text/plain": [
       "<Figure size 1200x800 with 1 Axes>"
      ]
     },
     "metadata": {},
     "output_type": "display_data"
    }
   ],
   "source": [
    "plt.figure(figsize=(12, 8))\n",
    "sns.boxplot(data=data, orient='h')\n",
    "plt.title('Boxplot of Numerical Variables')\n",
    "plt.show()"
   ]
  },
  {
   "cell_type": "code",
   "execution_count": 13,
   "id": "fd279734",
   "metadata": {
    "execution": {
     "iopub.execute_input": "2023-12-06T11:16:47.878449Z",
     "iopub.status.busy": "2023-12-06T11:16:47.877137Z",
     "iopub.status.idle": "2023-12-06T11:16:47.883620Z",
     "shell.execute_reply": "2023-12-06T11:16:47.882764Z"
    },
    "papermill": {
     "duration": 0.031037,
     "end_time": "2023-12-06T11:16:47.886129",
     "exception": false,
     "start_time": "2023-12-06T11:16:47.855092",
     "status": "completed"
    },
    "tags": []
   },
   "outputs": [],
   "source": [
    "X=data.drop('Attrition', axis=1)\n",
    "y=data['Attrition']"
   ]
  },
  {
   "cell_type": "code",
   "execution_count": 14,
   "id": "9432a00f",
   "metadata": {
    "execution": {
     "iopub.execute_input": "2023-12-06T11:16:47.930804Z",
     "iopub.status.busy": "2023-12-06T11:16:47.929627Z",
     "iopub.status.idle": "2023-12-06T11:16:47.936581Z",
     "shell.execute_reply": "2023-12-06T11:16:47.935407Z"
    },
    "papermill": {
     "duration": 0.032202,
     "end_time": "2023-12-06T11:16:47.939259",
     "exception": false,
     "start_time": "2023-12-06T11:16:47.907057",
     "status": "completed"
    },
    "tags": []
   },
   "outputs": [
    {
     "data": {
      "text/plain": [
       "((1677, 30), (1677,))"
      ]
     },
     "execution_count": 14,
     "metadata": {},
     "output_type": "execute_result"
    }
   ],
   "source": [
    "X.shape, y.shape"
   ]
  },
  {
   "cell_type": "code",
   "execution_count": 15,
   "id": "2e07847f",
   "metadata": {
    "execution": {
     "iopub.execute_input": "2023-12-06T11:16:47.982891Z",
     "iopub.status.busy": "2023-12-06T11:16:47.982413Z",
     "iopub.status.idle": "2023-12-06T11:16:47.989907Z",
     "shell.execute_reply": "2023-12-06T11:16:47.988605Z"
    },
    "papermill": {
     "duration": 0.032646,
     "end_time": "2023-12-06T11:16:47.992742",
     "exception": false,
     "start_time": "2023-12-06T11:16:47.960096",
     "status": "completed"
    },
    "tags": []
   },
   "outputs": [],
   "source": [
    "num =X.select_dtypes(include=['float64', 'int64']).columns\n",
    "cat= X.select_dtypes(include=['object', 'bool']).columns"
   ]
  },
  {
   "cell_type": "code",
   "execution_count": 16,
   "id": "48089366",
   "metadata": {
    "execution": {
     "iopub.execute_input": "2023-12-06T11:16:48.037908Z",
     "iopub.status.busy": "2023-12-06T11:16:48.037466Z",
     "iopub.status.idle": "2023-12-06T11:16:48.046222Z",
     "shell.execute_reply": "2023-12-06T11:16:48.045215Z"
    },
    "papermill": {
     "duration": 0.034276,
     "end_time": "2023-12-06T11:16:48.048522",
     "exception": false,
     "start_time": "2023-12-06T11:16:48.014246",
     "status": "completed"
    },
    "tags": []
   },
   "outputs": [
    {
     "data": {
      "text/plain": [
       "((1677, 23), (1677, 7))"
      ]
     },
     "execution_count": 16,
     "metadata": {},
     "output_type": "execute_result"
    }
   ],
   "source": [
    "X[num].shape, X[cat].shape"
   ]
  },
  {
   "cell_type": "code",
   "execution_count": 17,
   "id": "e737e8b9",
   "metadata": {
    "execution": {
     "iopub.execute_input": "2023-12-06T11:16:48.093521Z",
     "iopub.status.busy": "2023-12-06T11:16:48.093068Z",
     "iopub.status.idle": "2023-12-06T11:16:48.105045Z",
     "shell.execute_reply": "2023-12-06T11:16:48.103777Z"
    },
    "papermill": {
     "duration": 0.038193,
     "end_time": "2023-12-06T11:16:48.107734",
     "exception": false,
     "start_time": "2023-12-06T11:16:48.069541",
     "status": "completed"
    },
    "tags": []
   },
   "outputs": [
    {
     "data": {
      "text/plain": [
       "Attrition\n",
       "0    0.880739\n",
       "1    0.119261\n",
       "Name: proportion, dtype: float64"
      ]
     },
     "execution_count": 17,
     "metadata": {},
     "output_type": "execute_result"
    }
   ],
   "source": [
    "y.value_counts(normalize=True)"
   ]
  },
  {
   "cell_type": "code",
   "execution_count": 18,
   "id": "2e238337",
   "metadata": {
    "execution": {
     "iopub.execute_input": "2023-12-06T11:16:48.152420Z",
     "iopub.status.busy": "2023-12-06T11:16:48.152008Z",
     "iopub.status.idle": "2023-12-06T11:16:48.168087Z",
     "shell.execute_reply": "2023-12-06T11:16:48.166883Z"
    },
    "papermill": {
     "duration": 0.041026,
     "end_time": "2023-12-06T11:16:48.170455",
     "exception": false,
     "start_time": "2023-12-06T11:16:48.129429",
     "status": "completed"
    },
    "tags": []
   },
   "outputs": [
    {
     "data": {
      "text/html": [
       "<div>\n",
       "<style scoped>\n",
       "    .dataframe tbody tr th:only-of-type {\n",
       "        vertical-align: middle;\n",
       "    }\n",
       "\n",
       "    .dataframe tbody tr th {\n",
       "        vertical-align: top;\n",
       "    }\n",
       "\n",
       "    .dataframe thead th {\n",
       "        text-align: right;\n",
       "    }\n",
       "</style>\n",
       "<table border=\"1\" class=\"dataframe\">\n",
       "  <thead>\n",
       "    <tr style=\"text-align: right;\">\n",
       "      <th></th>\n",
       "      <th>BusinessTravel</th>\n",
       "      <th>Department</th>\n",
       "      <th>EducationField</th>\n",
       "      <th>Gender</th>\n",
       "      <th>JobRole</th>\n",
       "      <th>MaritalStatus</th>\n",
       "      <th>OverTime</th>\n",
       "    </tr>\n",
       "  </thead>\n",
       "  <tbody>\n",
       "    <tr>\n",
       "      <th>0</th>\n",
       "      <td>Travel_Frequently</td>\n",
       "      <td>Research &amp; Development</td>\n",
       "      <td>Medical</td>\n",
       "      <td>Male</td>\n",
       "      <td>Laboratory Technician</td>\n",
       "      <td>Married</td>\n",
       "      <td>Yes</td>\n",
       "    </tr>\n",
       "    <tr>\n",
       "      <th>1</th>\n",
       "      <td>Travel_Rarely</td>\n",
       "      <td>Sales</td>\n",
       "      <td>Other</td>\n",
       "      <td>Male</td>\n",
       "      <td>Sales Representative</td>\n",
       "      <td>Married</td>\n",
       "      <td>No</td>\n",
       "    </tr>\n",
       "  </tbody>\n",
       "</table>\n",
       "</div>"
      ],
      "text/plain": [
       "      BusinessTravel              Department EducationField Gender  \\\n",
       "0  Travel_Frequently  Research & Development        Medical   Male   \n",
       "1      Travel_Rarely                   Sales          Other   Male   \n",
       "\n",
       "                 JobRole MaritalStatus OverTime  \n",
       "0  Laboratory Technician       Married      Yes  \n",
       "1   Sales Representative       Married       No  "
      ]
     },
     "execution_count": 18,
     "metadata": {},
     "output_type": "execute_result"
    }
   ],
   "source": [
    "X[cat].head(2)"
   ]
  },
  {
   "cell_type": "code",
   "execution_count": 19,
   "id": "9f5e046c",
   "metadata": {
    "execution": {
     "iopub.execute_input": "2023-12-06T11:16:48.215198Z",
     "iopub.status.busy": "2023-12-06T11:16:48.214490Z",
     "iopub.status.idle": "2023-12-06T11:16:48.235424Z",
     "shell.execute_reply": "2023-12-06T11:16:48.234375Z"
    },
    "papermill": {
     "duration": 0.046431,
     "end_time": "2023-12-06T11:16:48.238166",
     "exception": false,
     "start_time": "2023-12-06T11:16:48.191735",
     "status": "completed"
    },
    "tags": []
   },
   "outputs": [
    {
     "data": {
      "text/html": [
       "<div>\n",
       "<style scoped>\n",
       "    .dataframe tbody tr th:only-of-type {\n",
       "        vertical-align: middle;\n",
       "    }\n",
       "\n",
       "    .dataframe tbody tr th {\n",
       "        vertical-align: top;\n",
       "    }\n",
       "\n",
       "    .dataframe thead th {\n",
       "        text-align: right;\n",
       "    }\n",
       "</style>\n",
       "<table border=\"1\" class=\"dataframe\">\n",
       "  <thead>\n",
       "    <tr style=\"text-align: right;\">\n",
       "      <th></th>\n",
       "      <th>Age</th>\n",
       "      <th>DailyRate</th>\n",
       "      <th>DistanceFromHome</th>\n",
       "      <th>Education</th>\n",
       "      <th>EnvironmentSatisfaction</th>\n",
       "      <th>HourlyRate</th>\n",
       "      <th>JobInvolvement</th>\n",
       "      <th>JobLevel</th>\n",
       "      <th>JobSatisfaction</th>\n",
       "      <th>MonthlyIncome</th>\n",
       "      <th>...</th>\n",
       "      <th>PerformanceRating</th>\n",
       "      <th>RelationshipSatisfaction</th>\n",
       "      <th>StockOptionLevel</th>\n",
       "      <th>TotalWorkingYears</th>\n",
       "      <th>TrainingTimesLastYear</th>\n",
       "      <th>WorkLifeBalance</th>\n",
       "      <th>YearsAtCompany</th>\n",
       "      <th>YearsInCurrentRole</th>\n",
       "      <th>YearsSinceLastPromotion</th>\n",
       "      <th>YearsWithCurrManager</th>\n",
       "    </tr>\n",
       "  </thead>\n",
       "  <tbody>\n",
       "    <tr>\n",
       "      <th>0</th>\n",
       "      <td>36</td>\n",
       "      <td>599</td>\n",
       "      <td>24</td>\n",
       "      <td>3</td>\n",
       "      <td>4</td>\n",
       "      <td>42</td>\n",
       "      <td>3</td>\n",
       "      <td>1</td>\n",
       "      <td>4</td>\n",
       "      <td>2596</td>\n",
       "      <td>...</td>\n",
       "      <td>3</td>\n",
       "      <td>2</td>\n",
       "      <td>1</td>\n",
       "      <td>10</td>\n",
       "      <td>2</td>\n",
       "      <td>3</td>\n",
       "      <td>10</td>\n",
       "      <td>0</td>\n",
       "      <td>7</td>\n",
       "      <td>8</td>\n",
       "    </tr>\n",
       "    <tr>\n",
       "      <th>1</th>\n",
       "      <td>35</td>\n",
       "      <td>921</td>\n",
       "      <td>8</td>\n",
       "      <td>3</td>\n",
       "      <td>1</td>\n",
       "      <td>46</td>\n",
       "      <td>3</td>\n",
       "      <td>1</td>\n",
       "      <td>1</td>\n",
       "      <td>2899</td>\n",
       "      <td>...</td>\n",
       "      <td>3</td>\n",
       "      <td>4</td>\n",
       "      <td>1</td>\n",
       "      <td>4</td>\n",
       "      <td>3</td>\n",
       "      <td>3</td>\n",
       "      <td>4</td>\n",
       "      <td>2</td>\n",
       "      <td>0</td>\n",
       "      <td>3</td>\n",
       "    </tr>\n",
       "  </tbody>\n",
       "</table>\n",
       "<p>2 rows × 23 columns</p>\n",
       "</div>"
      ],
      "text/plain": [
       "   Age  DailyRate  DistanceFromHome  Education  EnvironmentSatisfaction  \\\n",
       "0   36        599                24          3                        4   \n",
       "1   35        921                 8          3                        1   \n",
       "\n",
       "   HourlyRate  JobInvolvement  JobLevel  JobSatisfaction  MonthlyIncome  ...  \\\n",
       "0          42               3         1                4           2596  ...   \n",
       "1          46               3         1                1           2899  ...   \n",
       "\n",
       "   PerformanceRating  RelationshipSatisfaction  StockOptionLevel  \\\n",
       "0                  3                         2                 1   \n",
       "1                  3                         4                 1   \n",
       "\n",
       "   TotalWorkingYears  TrainingTimesLastYear  WorkLifeBalance  YearsAtCompany  \\\n",
       "0                 10                      2                3              10   \n",
       "1                  4                      3                3               4   \n",
       "\n",
       "   YearsInCurrentRole  YearsSinceLastPromotion  YearsWithCurrManager  \n",
       "0                   0                        7                     8  \n",
       "1                   2                        0                     3  \n",
       "\n",
       "[2 rows x 23 columns]"
      ]
     },
     "execution_count": 19,
     "metadata": {},
     "output_type": "execute_result"
    }
   ],
   "source": [
    "X[num].head(2)"
   ]
  },
  {
   "cell_type": "markdown",
   "id": "0d719871",
   "metadata": {
    "papermill": {
     "duration": 0.021986,
     "end_time": "2023-12-06T11:16:48.282746",
     "exception": false,
     "start_time": "2023-12-06T11:16:48.260760",
     "status": "completed"
    },
    "tags": []
   },
   "source": [
    "# LazyPredict"
   ]
  },
  {
   "cell_type": "markdown",
   "id": "1b279828",
   "metadata": {
    "papermill": {
     "duration": 0.022015,
     "end_time": "2023-12-06T11:16:48.326449",
     "exception": false,
     "start_time": "2023-12-06T11:16:48.304434",
     "status": "completed"
    },
    "tags": []
   },
   "source": [
    "* This library will allow us to build a number of model with much code,and helps understand which models works better without any parameter tuning.\n",
    "* After which we can then choose the top model to work with.\n",
    "* The .fit method will return models and predictions."
   ]
  },
  {
   "cell_type": "code",
   "execution_count": 20,
   "id": "a3d524e6",
   "metadata": {
    "execution": {
     "iopub.execute_input": "2023-12-06T11:16:48.371824Z",
     "iopub.status.busy": "2023-12-06T11:16:48.371410Z",
     "iopub.status.idle": "2023-12-06T11:17:04.130721Z",
     "shell.execute_reply": "2023-12-06T11:17:04.128624Z"
    },
    "papermill": {
     "duration": 15.78564,
     "end_time": "2023-12-06T11:17:04.133788",
     "exception": false,
     "start_time": "2023-12-06T11:16:48.348148",
     "status": "completed"
    },
    "tags": []
   },
   "outputs": [],
   "source": [
    "#install the library\n",
    "!pip install lazypredict -q"
   ]
  },
  {
   "cell_type": "code",
   "execution_count": 21,
   "id": "318a45b0",
   "metadata": {
    "execution": {
     "iopub.execute_input": "2023-12-06T11:17:04.181699Z",
     "iopub.status.busy": "2023-12-06T11:17:04.181228Z",
     "iopub.status.idle": "2023-12-06T11:17:14.080101Z",
     "shell.execute_reply": "2023-12-06T11:17:14.078745Z"
    },
    "papermill": {
     "duration": 9.926592,
     "end_time": "2023-12-06T11:17:14.082900",
     "exception": false,
     "start_time": "2023-12-06T11:17:04.156308",
     "status": "completed"
    },
    "tags": []
   },
   "outputs": [
    {
     "name": "stderr",
     "output_type": "stream",
     "text": [
      "100%|██████████| 29/29 [00:07<00:00,  3.99it/s]\n"
     ]
    }
   ],
   "source": [
    "\n",
    "X_train, X_test, y_train, y_test = train_test_split( X, y, test_size=0.2, random_state=42,shuffle=True, stratify=y)\n",
    "from lazypredict.Supervised import LazyClassifier\n",
    "clf = LazyClassifier(verbose=0,predictions=True)\n",
    "models,predictions = clf.fit(X_train, X_test, y_train, y_test)"
   ]
  },
  {
   "cell_type": "code",
   "execution_count": 22,
   "id": "95c889aa",
   "metadata": {
    "execution": {
     "iopub.execute_input": "2023-12-06T11:17:14.134712Z",
     "iopub.status.busy": "2023-12-06T11:17:14.133770Z",
     "iopub.status.idle": "2023-12-06T11:17:14.148800Z",
     "shell.execute_reply": "2023-12-06T11:17:14.147959Z"
    },
    "papermill": {
     "duration": 0.043619,
     "end_time": "2023-12-06T11:17:14.151236",
     "exception": false,
     "start_time": "2023-12-06T11:17:14.107617",
     "status": "completed"
    },
    "tags": []
   },
   "outputs": [
    {
     "data": {
      "text/html": [
       "<div>\n",
       "<style scoped>\n",
       "    .dataframe tbody tr th:only-of-type {\n",
       "        vertical-align: middle;\n",
       "    }\n",
       "\n",
       "    .dataframe tbody tr th {\n",
       "        vertical-align: top;\n",
       "    }\n",
       "\n",
       "    .dataframe thead th {\n",
       "        text-align: right;\n",
       "    }\n",
       "</style>\n",
       "<table border=\"1\" class=\"dataframe\">\n",
       "  <thead>\n",
       "    <tr style=\"text-align: right;\">\n",
       "      <th></th>\n",
       "      <th>Accuracy</th>\n",
       "      <th>Balanced Accuracy</th>\n",
       "      <th>ROC AUC</th>\n",
       "      <th>F1 Score</th>\n",
       "      <th>Time Taken</th>\n",
       "    </tr>\n",
       "    <tr>\n",
       "      <th>Model</th>\n",
       "      <th></th>\n",
       "      <th></th>\n",
       "      <th></th>\n",
       "      <th></th>\n",
       "      <th></th>\n",
       "    </tr>\n",
       "  </thead>\n",
       "  <tbody>\n",
       "    <tr>\n",
       "      <th>SGDClassifier</th>\n",
       "      <td>0.82</td>\n",
       "      <td>0.69</td>\n",
       "      <td>NaN</td>\n",
       "      <td>0.84</td>\n",
       "      <td>0.14</td>\n",
       "    </tr>\n",
       "    <tr>\n",
       "      <th>BernoulliNB</th>\n",
       "      <td>0.84</td>\n",
       "      <td>0.64</td>\n",
       "      <td>NaN</td>\n",
       "      <td>0.84</td>\n",
       "      <td>0.05</td>\n",
       "    </tr>\n",
       "    <tr>\n",
       "      <th>AdaBoostClassifier</th>\n",
       "      <td>0.88</td>\n",
       "      <td>0.62</td>\n",
       "      <td>0.62</td>\n",
       "      <td>0.87</td>\n",
       "      <td>0.44</td>\n",
       "    </tr>\n",
       "    <tr>\n",
       "      <th>Perceptron</th>\n",
       "      <td>0.87</td>\n",
       "      <td>0.61</td>\n",
       "      <td>NaN</td>\n",
       "      <td>0.86</td>\n",
       "      <td>0.14</td>\n",
       "    </tr>\n",
       "    <tr>\n",
       "      <th>GaussianNB</th>\n",
       "      <td>0.66</td>\n",
       "      <td>0.61</td>\n",
       "      <td>NaN</td>\n",
       "      <td>0.72</td>\n",
       "      <td>0.05</td>\n",
       "    </tr>\n",
       "    <tr>\n",
       "      <th>NearestCentroid</th>\n",
       "      <td>0.62</td>\n",
       "      <td>0.61</td>\n",
       "      <td>0.61</td>\n",
       "      <td>0.69</td>\n",
       "      <td>0.08</td>\n",
       "    </tr>\n",
       "    <tr>\n",
       "      <th>QuadraticDiscriminantAnalysis</th>\n",
       "      <td>0.54</td>\n",
       "      <td>0.59</td>\n",
       "      <td>0.59</td>\n",
       "      <td>0.62</td>\n",
       "      <td>0.22</td>\n",
       "    </tr>\n",
       "    <tr>\n",
       "      <th>LogisticRegression</th>\n",
       "      <td>0.88</td>\n",
       "      <td>0.59</td>\n",
       "      <td>0.59</td>\n",
       "      <td>0.86</td>\n",
       "      <td>0.27</td>\n",
       "    </tr>\n",
       "    <tr>\n",
       "      <th>LGBMClassifier</th>\n",
       "      <td>0.88</td>\n",
       "      <td>0.59</td>\n",
       "      <td>0.59</td>\n",
       "      <td>0.86</td>\n",
       "      <td>1.11</td>\n",
       "    </tr>\n",
       "    <tr>\n",
       "      <th>CalibratedClassifierCV</th>\n",
       "      <td>0.90</td>\n",
       "      <td>0.58</td>\n",
       "      <td>0.58</td>\n",
       "      <td>0.87</td>\n",
       "      <td>1.03</td>\n",
       "    </tr>\n",
       "    <tr>\n",
       "      <th>ExtraTreeClassifier</th>\n",
       "      <td>0.82</td>\n",
       "      <td>0.58</td>\n",
       "      <td>0.58</td>\n",
       "      <td>0.82</td>\n",
       "      <td>0.05</td>\n",
       "    </tr>\n",
       "    <tr>\n",
       "      <th>LabelPropagation</th>\n",
       "      <td>0.83</td>\n",
       "      <td>0.58</td>\n",
       "      <td>0.58</td>\n",
       "      <td>0.83</td>\n",
       "      <td>0.40</td>\n",
       "    </tr>\n",
       "    <tr>\n",
       "      <th>LabelSpreading</th>\n",
       "      <td>0.83</td>\n",
       "      <td>0.58</td>\n",
       "      <td>0.58</td>\n",
       "      <td>0.83</td>\n",
       "      <td>0.48</td>\n",
       "    </tr>\n",
       "    <tr>\n",
       "      <th>LinearSVC</th>\n",
       "      <td>0.89</td>\n",
       "      <td>0.58</td>\n",
       "      <td>0.58</td>\n",
       "      <td>0.86</td>\n",
       "      <td>0.25</td>\n",
       "    </tr>\n",
       "    <tr>\n",
       "      <th>PassiveAggressiveClassifier</th>\n",
       "      <td>0.85</td>\n",
       "      <td>0.58</td>\n",
       "      <td>NaN</td>\n",
       "      <td>0.84</td>\n",
       "      <td>0.10</td>\n",
       "    </tr>\n",
       "    <tr>\n",
       "      <th>DecisionTreeClassifier</th>\n",
       "      <td>0.81</td>\n",
       "      <td>0.58</td>\n",
       "      <td>0.58</td>\n",
       "      <td>0.82</td>\n",
       "      <td>0.06</td>\n",
       "    </tr>\n",
       "    <tr>\n",
       "      <th>LinearDiscriminantAnalysis</th>\n",
       "      <td>0.88</td>\n",
       "      <td>0.58</td>\n",
       "      <td>NaN</td>\n",
       "      <td>0.85</td>\n",
       "      <td>0.25</td>\n",
       "    </tr>\n",
       "    <tr>\n",
       "      <th>BaggingClassifier</th>\n",
       "      <td>0.88</td>\n",
       "      <td>0.54</td>\n",
       "      <td>0.54</td>\n",
       "      <td>0.84</td>\n",
       "      <td>0.17</td>\n",
       "    </tr>\n",
       "    <tr>\n",
       "      <th>KNeighborsClassifier</th>\n",
       "      <td>0.88</td>\n",
       "      <td>0.53</td>\n",
       "      <td>0.53</td>\n",
       "      <td>0.84</td>\n",
       "      <td>0.17</td>\n",
       "    </tr>\n",
       "    <tr>\n",
       "      <th>RandomForestClassifier</th>\n",
       "      <td>0.88</td>\n",
       "      <td>0.53</td>\n",
       "      <td>0.53</td>\n",
       "      <td>0.84</td>\n",
       "      <td>0.55</td>\n",
       "    </tr>\n",
       "    <tr>\n",
       "      <th>ExtraTreesClassifier</th>\n",
       "      <td>0.88</td>\n",
       "      <td>0.53</td>\n",
       "      <td>0.53</td>\n",
       "      <td>0.84</td>\n",
       "      <td>0.35</td>\n",
       "    </tr>\n",
       "    <tr>\n",
       "      <th>RidgeClassifier</th>\n",
       "      <td>0.89</td>\n",
       "      <td>0.53</td>\n",
       "      <td>NaN</td>\n",
       "      <td>0.84</td>\n",
       "      <td>0.19</td>\n",
       "    </tr>\n",
       "    <tr>\n",
       "      <th>RidgeClassifierCV</th>\n",
       "      <td>0.88</td>\n",
       "      <td>0.51</td>\n",
       "      <td>NaN</td>\n",
       "      <td>0.83</td>\n",
       "      <td>0.30</td>\n",
       "    </tr>\n",
       "    <tr>\n",
       "      <th>DummyClassifier</th>\n",
       "      <td>0.88</td>\n",
       "      <td>0.50</td>\n",
       "      <td>NaN</td>\n",
       "      <td>0.83</td>\n",
       "      <td>0.04</td>\n",
       "    </tr>\n",
       "    <tr>\n",
       "      <th>SVC</th>\n",
       "      <td>0.88</td>\n",
       "      <td>0.50</td>\n",
       "      <td>0.50</td>\n",
       "      <td>0.83</td>\n",
       "      <td>0.15</td>\n",
       "    </tr>\n",
       "  </tbody>\n",
       "</table>\n",
       "</div>"
      ],
      "text/plain": [
       "                               Accuracy  Balanced Accuracy  ROC AUC  F1 Score  \\\n",
       "Model                                                                           \n",
       "SGDClassifier                      0.82               0.69      NaN      0.84   \n",
       "BernoulliNB                        0.84               0.64      NaN      0.84   \n",
       "AdaBoostClassifier                 0.88               0.62     0.62      0.87   \n",
       "Perceptron                         0.87               0.61      NaN      0.86   \n",
       "GaussianNB                         0.66               0.61      NaN      0.72   \n",
       "NearestCentroid                    0.62               0.61     0.61      0.69   \n",
       "QuadraticDiscriminantAnalysis      0.54               0.59     0.59      0.62   \n",
       "LogisticRegression                 0.88               0.59     0.59      0.86   \n",
       "LGBMClassifier                     0.88               0.59     0.59      0.86   \n",
       "CalibratedClassifierCV             0.90               0.58     0.58      0.87   \n",
       "ExtraTreeClassifier                0.82               0.58     0.58      0.82   \n",
       "LabelPropagation                   0.83               0.58     0.58      0.83   \n",
       "LabelSpreading                     0.83               0.58     0.58      0.83   \n",
       "LinearSVC                          0.89               0.58     0.58      0.86   \n",
       "PassiveAggressiveClassifier        0.85               0.58      NaN      0.84   \n",
       "DecisionTreeClassifier             0.81               0.58     0.58      0.82   \n",
       "LinearDiscriminantAnalysis         0.88               0.58      NaN      0.85   \n",
       "BaggingClassifier                  0.88               0.54     0.54      0.84   \n",
       "KNeighborsClassifier               0.88               0.53     0.53      0.84   \n",
       "RandomForestClassifier             0.88               0.53     0.53      0.84   \n",
       "ExtraTreesClassifier               0.88               0.53     0.53      0.84   \n",
       "RidgeClassifier                    0.89               0.53      NaN      0.84   \n",
       "RidgeClassifierCV                  0.88               0.51      NaN      0.83   \n",
       "DummyClassifier                    0.88               0.50      NaN      0.83   \n",
       "SVC                                0.88               0.50     0.50      0.83   \n",
       "\n",
       "                               Time Taken  \n",
       "Model                                      \n",
       "SGDClassifier                        0.14  \n",
       "BernoulliNB                          0.05  \n",
       "AdaBoostClassifier                   0.44  \n",
       "Perceptron                           0.14  \n",
       "GaussianNB                           0.05  \n",
       "NearestCentroid                      0.08  \n",
       "QuadraticDiscriminantAnalysis        0.22  \n",
       "LogisticRegression                   0.27  \n",
       "LGBMClassifier                       1.11  \n",
       "CalibratedClassifierCV               1.03  \n",
       "ExtraTreeClassifier                  0.05  \n",
       "LabelPropagation                     0.40  \n",
       "LabelSpreading                       0.48  \n",
       "LinearSVC                            0.25  \n",
       "PassiveAggressiveClassifier          0.10  \n",
       "DecisionTreeClassifier               0.06  \n",
       "LinearDiscriminantAnalysis           0.25  \n",
       "BaggingClassifier                    0.17  \n",
       "KNeighborsClassifier                 0.17  \n",
       "RandomForestClassifier               0.55  \n",
       "ExtraTreesClassifier                 0.35  \n",
       "RidgeClassifier                      0.19  \n",
       "RidgeClassifierCV                    0.30  \n",
       "DummyClassifier                      0.04  \n",
       "SVC                                  0.15  "
      ]
     },
     "execution_count": 22,
     "metadata": {},
     "output_type": "execute_result"
    }
   ],
   "source": [
    "models"
   ]
  },
  {
   "cell_type": "code",
   "execution_count": 23,
   "id": "ec7dfd83",
   "metadata": {
    "execution": {
     "iopub.execute_input": "2023-12-06T11:17:14.203727Z",
     "iopub.status.busy": "2023-12-06T11:17:14.202429Z",
     "iopub.status.idle": "2023-12-06T11:17:14.226010Z",
     "shell.execute_reply": "2023-12-06T11:17:14.225160Z"
    },
    "papermill": {
     "duration": 0.052355,
     "end_time": "2023-12-06T11:17:14.228304",
     "exception": false,
     "start_time": "2023-12-06T11:17:14.175949",
     "status": "completed"
    },
    "tags": []
   },
   "outputs": [
    {
     "data": {
      "text/html": [
       "<div>\n",
       "<style scoped>\n",
       "    .dataframe tbody tr th:only-of-type {\n",
       "        vertical-align: middle;\n",
       "    }\n",
       "\n",
       "    .dataframe tbody tr th {\n",
       "        vertical-align: top;\n",
       "    }\n",
       "\n",
       "    .dataframe thead th {\n",
       "        text-align: right;\n",
       "    }\n",
       "</style>\n",
       "<table border=\"1\" class=\"dataframe\">\n",
       "  <thead>\n",
       "    <tr style=\"text-align: right;\">\n",
       "      <th></th>\n",
       "      <th>AdaBoostClassifier</th>\n",
       "      <th>BaggingClassifier</th>\n",
       "      <th>BernoulliNB</th>\n",
       "      <th>CalibratedClassifierCV</th>\n",
       "      <th>DecisionTreeClassifier</th>\n",
       "      <th>DummyClassifier</th>\n",
       "      <th>ExtraTreeClassifier</th>\n",
       "      <th>ExtraTreesClassifier</th>\n",
       "      <th>GaussianNB</th>\n",
       "      <th>KNeighborsClassifier</th>\n",
       "      <th>...</th>\n",
       "      <th>NearestCentroid</th>\n",
       "      <th>PassiveAggressiveClassifier</th>\n",
       "      <th>Perceptron</th>\n",
       "      <th>QuadraticDiscriminantAnalysis</th>\n",
       "      <th>RandomForestClassifier</th>\n",
       "      <th>RidgeClassifier</th>\n",
       "      <th>RidgeClassifierCV</th>\n",
       "      <th>SGDClassifier</th>\n",
       "      <th>SVC</th>\n",
       "      <th>LGBMClassifier</th>\n",
       "    </tr>\n",
       "  </thead>\n",
       "  <tbody>\n",
       "    <tr>\n",
       "      <th>0</th>\n",
       "      <td>0</td>\n",
       "      <td>0</td>\n",
       "      <td>0</td>\n",
       "      <td>0</td>\n",
       "      <td>0</td>\n",
       "      <td>0</td>\n",
       "      <td>0</td>\n",
       "      <td>0</td>\n",
       "      <td>0</td>\n",
       "      <td>0</td>\n",
       "      <td>...</td>\n",
       "      <td>0</td>\n",
       "      <td>0</td>\n",
       "      <td>0</td>\n",
       "      <td>0</td>\n",
       "      <td>0</td>\n",
       "      <td>0</td>\n",
       "      <td>0</td>\n",
       "      <td>0</td>\n",
       "      <td>0</td>\n",
       "      <td>0</td>\n",
       "    </tr>\n",
       "    <tr>\n",
       "      <th>1</th>\n",
       "      <td>0</td>\n",
       "      <td>0</td>\n",
       "      <td>0</td>\n",
       "      <td>0</td>\n",
       "      <td>0</td>\n",
       "      <td>0</td>\n",
       "      <td>0</td>\n",
       "      <td>0</td>\n",
       "      <td>1</td>\n",
       "      <td>0</td>\n",
       "      <td>...</td>\n",
       "      <td>1</td>\n",
       "      <td>0</td>\n",
       "      <td>0</td>\n",
       "      <td>0</td>\n",
       "      <td>0</td>\n",
       "      <td>0</td>\n",
       "      <td>0</td>\n",
       "      <td>0</td>\n",
       "      <td>0</td>\n",
       "      <td>0</td>\n",
       "    </tr>\n",
       "  </tbody>\n",
       "</table>\n",
       "<p>2 rows × 25 columns</p>\n",
       "</div>"
      ],
      "text/plain": [
       "  AdaBoostClassifier BaggingClassifier BernoulliNB CalibratedClassifierCV  \\\n",
       "0                  0                 0           0                      0   \n",
       "1                  0                 0           0                      0   \n",
       "\n",
       "  DecisionTreeClassifier DummyClassifier ExtraTreeClassifier  \\\n",
       "0                      0               0                   0   \n",
       "1                      0               0                   0   \n",
       "\n",
       "  ExtraTreesClassifier GaussianNB KNeighborsClassifier  ... NearestCentroid  \\\n",
       "0                    0          0                    0  ...               0   \n",
       "1                    0          1                    0  ...               1   \n",
       "\n",
       "  PassiveAggressiveClassifier Perceptron QuadraticDiscriminantAnalysis  \\\n",
       "0                           0          0                             0   \n",
       "1                           0          0                             0   \n",
       "\n",
       "  RandomForestClassifier RidgeClassifier RidgeClassifierCV SGDClassifier SVC  \\\n",
       "0                      0               0                 0             0   0   \n",
       "1                      0               0                 0             0   0   \n",
       "\n",
       "  LGBMClassifier  \n",
       "0              0  \n",
       "1              0  \n",
       "\n",
       "[2 rows x 25 columns]"
      ]
     },
     "execution_count": 23,
     "metadata": {},
     "output_type": "execute_result"
    }
   ],
   "source": [
    "#View Prediction of each classifiers from lazy predict\n",
    "predictions.head(2)"
   ]
  },
  {
   "cell_type": "code",
   "execution_count": 24,
   "id": "448071ee",
   "metadata": {
    "execution": {
     "iopub.execute_input": "2023-12-06T11:17:14.280714Z",
     "iopub.status.busy": "2023-12-06T11:17:14.280021Z",
     "iopub.status.idle": "2023-12-06T11:17:14.363691Z",
     "shell.execute_reply": "2023-12-06T11:17:14.362758Z"
    },
    "papermill": {
     "duration": 0.113222,
     "end_time": "2023-12-06T11:17:14.366571",
     "exception": false,
     "start_time": "2023-12-06T11:17:14.253349",
     "status": "completed"
    },
    "tags": []
   },
   "outputs": [
    {
     "name": "stdout",
     "output_type": "stream",
     "text": [
      "\t\t AdaBoostClassifier \n",
      "\n",
      "              precision    recall  f1-score   support\n",
      "\n",
      "           0       0.91      0.97      0.94       296\n",
      "           1       0.52      0.28      0.36        40\n",
      "\n",
      "    accuracy                           0.88       336\n",
      "   macro avg       0.72      0.62      0.65       336\n",
      "weighted avg       0.86      0.88      0.87       336\n",
      " \n",
      "\n",
      "\t\t LogisticRegression \n",
      "\n",
      "              precision    recall  f1-score   support\n",
      "\n",
      "           0       0.90      0.97      0.94       296\n",
      "           1       0.50      0.20      0.29        40\n",
      "\n",
      "    accuracy                           0.88       336\n",
      "   macro avg       0.70      0.59      0.61       336\n",
      "weighted avg       0.85      0.88      0.86       336\n",
      " \n",
      "\n",
      "\t\t RandomForestClassifier \n",
      "\n",
      "              precision    recall  f1-score   support\n",
      "\n",
      "           0       0.89      0.99      0.94       296\n",
      "           1       0.60      0.07      0.13        40\n",
      "\n",
      "    accuracy                           0.88       336\n",
      "   macro avg       0.74      0.53      0.54       336\n",
      "weighted avg       0.85      0.88      0.84       336\n",
      " \n",
      "\n"
     ]
    }
   ],
   "source": [
    "# Lets observe the classification_report of each individual model\n",
    "for i in predictions.columns.tolist():\n",
    "    if i in ['AdaBoostClassifier','RandomForestClassifier', 'LogisticRegression']:\n",
    "        print('\\t\\t',i,'\\n')\n",
    "        print(classification_report(y_test, predictions[i]),'\\n')"
   ]
  },
  {
   "cell_type": "markdown",
   "id": "d233b524",
   "metadata": {
    "papermill": {
     "duration": 0.025081,
     "end_time": "2023-12-06T11:17:14.417731",
     "exception": false,
     "start_time": "2023-12-06T11:17:14.392650",
     "status": "completed"
    },
    "tags": []
   },
   "source": [
    "* Lets Examine the Classification report of the following algorithms; AdaBosst, RandomForest and LogisticRegression.\n",
    "* Even though the models seems to achieve high accuracy, this can be decieving as the accracy only the ability of the model in predicting the majority class.\n",
    "* This is further evident in the low recall observe in the minority class as shown in each of the classification report.\n",
    "* This will be addressed by applying transformation such as synthetic oversampling or undersampling to the minority and majority class respectively."
   ]
  },
  {
   "cell_type": "markdown",
   "id": "9715ec9d",
   "metadata": {
    "papermill": {
     "duration": 0.02582,
     "end_time": "2023-12-06T11:17:14.468835",
     "exception": false,
     "start_time": "2023-12-06T11:17:14.443015",
     "status": "completed"
    },
    "tags": []
   },
   "source": [
    "# `Feature Selection With FeatureWiz`"
   ]
  },
  {
   "cell_type": "markdown",
   "id": "d864ad5a",
   "metadata": {
    "papermill": {
     "duration": 0.025203,
     "end_time": "2023-12-06T11:17:14.519694",
     "exception": false,
     "start_time": "2023-12-06T11:17:14.494491",
     "status": "completed"
    },
    "tags": []
   },
   "source": [
    "*  Featurewiz is the best feature selection library for ml performance with minimal effort and maximum relevance using the famous MRMR algorithm.\n",
    "* [featurewiz](https://pypi.org/project/featurewiz/)\n",
    "* [featurewizDEMO](https://www.kaggle.com/code/rsesha/new-featurewiz-demo/notebook#Let's-compare-it-to-15-variables-from-featurewiz)"
   ]
  },
  {
   "cell_type": "code",
   "execution_count": 25,
   "id": "6321827d",
   "metadata": {
    "execution": {
     "iopub.execute_input": "2023-12-06T11:17:14.575972Z",
     "iopub.status.busy": "2023-12-06T11:17:14.575494Z",
     "iopub.status.idle": "2023-12-06T11:17:55.796640Z",
     "shell.execute_reply": "2023-12-06T11:17:55.795199Z"
    },
    "papermill": {
     "duration": 41.254565,
     "end_time": "2023-12-06T11:17:55.799759",
     "exception": false,
     "start_time": "2023-12-06T11:17:14.545194",
     "status": "completed"
    },
    "tags": []
   },
   "outputs": [
    {
     "name": "stdout",
     "output_type": "stream",
     "text": [
      "Collecting featurewiz\r\n",
      "  Obtaining dependency information for featurewiz from https://files.pythonhosted.org/packages/4b/03/8b2cbff4c355830c4b1313e52ea40252f5923964374faffb84ea70beb6dc/featurewiz-0.4.7-py3-none-any.whl.metadata\r\n",
      "  Downloading featurewiz-0.4.7-py3-none-any.whl.metadata (24 kB)\r\n",
      "Requirement already satisfied: Pillow>=9.0.0 in /opt/conda/lib/python3.10/site-packages (from featurewiz) (10.1.0)\r\n",
      "Requirement already satisfied: category-encoders>=2.6.2 in /opt/conda/lib/python3.10/site-packages (from featurewiz) (2.6.3)\r\n",
      "Requirement already satisfied: dask>=2021.11.0 in /opt/conda/lib/python3.10/site-packages (from featurewiz) (2023.11.0)\r\n",
      "Requirement already satisfied: distributed>=2021.11.0 in /opt/conda/lib/python3.10/site-packages (from featurewiz) (2023.11.0)\r\n",
      "Requirement already satisfied: feather-format>=0.4.1 in /opt/conda/lib/python3.10/site-packages (from featurewiz) (0.4.1)\r\n",
      "Requirement already satisfied: fsspec>=0.3.3 in /opt/conda/lib/python3.10/site-packages (from featurewiz) (2023.10.0)\r\n",
      "Requirement already satisfied: ipython in /opt/conda/lib/python3.10/site-packages (from featurewiz) (8.14.0)\r\n",
      "Collecting jupyter (from featurewiz)\r\n",
      "  Downloading jupyter-1.0.0-py2.py3-none-any.whl (2.7 kB)\r\n",
      "Collecting lazytransform>=1.10 (from featurewiz)\r\n",
      "  Obtaining dependency information for lazytransform>=1.10 from https://files.pythonhosted.org/packages/f3/f8/97326fd03f4133850d9fda1e0d66b1b6b32a7882ef1f3e41597c99f8e180/lazytransform-1.10-py3-none-any.whl.metadata\r\n",
      "  Downloading lazytransform-1.10-py3-none-any.whl.metadata (17 kB)\r\n",
      "Requirement already satisfied: lightgbm>=3.2.1 in /opt/conda/lib/python3.10/site-packages (from featurewiz) (3.3.2)\r\n",
      "Requirement already satisfied: matplotlib in /opt/conda/lib/python3.10/site-packages (from featurewiz) (3.7.3)\r\n",
      "Requirement already satisfied: networkx>=2.6.2 in /opt/conda/lib/python3.10/site-packages (from featurewiz) (3.1)\r\n",
      "Collecting pandas<2.0,>=1.3.4 (from featurewiz)\r\n",
      "  Downloading pandas-1.5.3-cp310-cp310-manylinux_2_17_x86_64.manylinux2014_x86_64.whl (12.1 MB)\r\n",
      "\u001b[2K     \u001b[90m━━━━━━━━━━━━━━━━━━━━━━━━━━━━━━━━━━━━━━━━\u001b[0m \u001b[32m12.1/12.1 MB\u001b[0m \u001b[31m60.4 MB/s\u001b[0m eta \u001b[36m0:00:00\u001b[0m\r\n",
      "\u001b[?25hRequirement already satisfied: pyarrow>=7.0.0 in /opt/conda/lib/python3.10/site-packages (from featurewiz) (14.0.1)\r\n",
      "Requirement already satisfied: scikit-learn<=1.2.2,>=0.24 in /opt/conda/lib/python3.10/site-packages (from featurewiz) (1.2.2)\r\n",
      "Requirement already satisfied: seaborn in /opt/conda/lib/python3.10/site-packages (from featurewiz) (0.12.2)\r\n",
      "Requirement already satisfied: tqdm>=4.61.1 in /opt/conda/lib/python3.10/site-packages (from featurewiz) (4.66.1)\r\n",
      "Collecting xgboost<=1.6.2,>=1.5 (from featurewiz)\r\n",
      "  Downloading xgboost-1.6.2-py3-none-manylinux2014_x86_64.whl (255.9 MB)\r\n",
      "\u001b[2K     \u001b[90m━━━━━━━━━━━━━━━━━━━━━━━━━━━━━━━━━━━━━━━\u001b[0m \u001b[32m255.9/255.9 MB\u001b[0m \u001b[31m4.1 MB/s\u001b[0m eta \u001b[36m0:00:00\u001b[0m\r\n",
      "\u001b[?25hCollecting xlrd>=2.0.0 (from featurewiz)\r\n",
      "  Downloading xlrd-2.0.1-py2.py3-none-any.whl (96 kB)\r\n",
      "\u001b[2K     \u001b[90m━━━━━━━━━━━━━━━━━━━━━━━━━━━━━━━━━━━━━━━━\u001b[0m \u001b[32m96.5/96.5 kB\u001b[0m \u001b[31m8.5 MB/s\u001b[0m eta \u001b[36m0:00:00\u001b[0m\r\n",
      "\u001b[?25hRequirement already satisfied: numpy>=1.14.0 in /opt/conda/lib/python3.10/site-packages (from category-encoders>=2.6.2->featurewiz) (1.24.3)\r\n",
      "Requirement already satisfied: scipy>=1.0.0 in /opt/conda/lib/python3.10/site-packages (from category-encoders>=2.6.2->featurewiz) (1.11.3)\r\n",
      "Requirement already satisfied: statsmodels>=0.9.0 in /opt/conda/lib/python3.10/site-packages (from category-encoders>=2.6.2->featurewiz) (0.14.0)\r\n",
      "Requirement already satisfied: patsy>=0.5.1 in /opt/conda/lib/python3.10/site-packages (from category-encoders>=2.6.2->featurewiz) (0.5.3)\r\n",
      "Requirement already satisfied: click>=8.1 in /opt/conda/lib/python3.10/site-packages (from dask>=2021.11.0->featurewiz) (8.1.7)\r\n",
      "Requirement already satisfied: cloudpickle>=1.5.0 in /opt/conda/lib/python3.10/site-packages (from dask>=2021.11.0->featurewiz) (2.2.1)\r\n",
      "Requirement already satisfied: packaging>=20.0 in /opt/conda/lib/python3.10/site-packages (from dask>=2021.11.0->featurewiz) (21.3)\r\n",
      "Requirement already satisfied: partd>=1.2.0 in /opt/conda/lib/python3.10/site-packages (from dask>=2021.11.0->featurewiz) (1.4.1)\r\n",
      "Requirement already satisfied: pyyaml>=5.3.1 in /opt/conda/lib/python3.10/site-packages (from dask>=2021.11.0->featurewiz) (6.0.1)\r\n",
      "Requirement already satisfied: toolz>=0.10.0 in /opt/conda/lib/python3.10/site-packages (from dask>=2021.11.0->featurewiz) (0.12.0)\r\n",
      "Requirement already satisfied: importlib-metadata>=4.13.0 in /opt/conda/lib/python3.10/site-packages (from dask>=2021.11.0->featurewiz) (6.8.0)\r\n",
      "Requirement already satisfied: jinja2>=2.10.3 in /opt/conda/lib/python3.10/site-packages (from distributed>=2021.11.0->featurewiz) (3.1.2)\r\n",
      "Requirement already satisfied: locket>=1.0.0 in /opt/conda/lib/python3.10/site-packages (from distributed>=2021.11.0->featurewiz) (1.0.0)\r\n",
      "Requirement already satisfied: msgpack>=1.0.0 in /opt/conda/lib/python3.10/site-packages (from distributed>=2021.11.0->featurewiz) (1.0.5)\r\n",
      "Requirement already satisfied: psutil>=5.7.2 in /opt/conda/lib/python3.10/site-packages (from distributed>=2021.11.0->featurewiz) (5.9.3)\r\n",
      "Requirement already satisfied: sortedcontainers>=2.0.5 in /opt/conda/lib/python3.10/site-packages (from distributed>=2021.11.0->featurewiz) (2.4.0)\r\n",
      "Requirement already satisfied: tblib>=1.6.0 in /opt/conda/lib/python3.10/site-packages (from distributed>=2021.11.0->featurewiz) (3.0.0)\r\n",
      "Requirement already satisfied: tornado>=6.0.4 in /opt/conda/lib/python3.10/site-packages (from distributed>=2021.11.0->featurewiz) (6.3.3)\r\n",
      "Requirement already satisfied: urllib3>=1.24.3 in /opt/conda/lib/python3.10/site-packages (from distributed>=2021.11.0->featurewiz) (1.26.15)\r\n",
      "Requirement already satisfied: zict>=3.0.0 in /opt/conda/lib/python3.10/site-packages (from distributed>=2021.11.0->featurewiz) (3.0.0)\r\n",
      "Requirement already satisfied: python-dateutil>=2.8.1 in /opt/conda/lib/python3.10/site-packages (from lazytransform>=1.10->featurewiz) (2.8.2)\r\n",
      "Requirement already satisfied: wheel in /opt/conda/lib/python3.10/site-packages (from lightgbm>=3.2.1->featurewiz) (0.41.2)\r\n",
      "Requirement already satisfied: contourpy>=1.0.1 in /opt/conda/lib/python3.10/site-packages (from matplotlib->featurewiz) (1.1.0)\r\n",
      "Requirement already satisfied: cycler>=0.10 in /opt/conda/lib/python3.10/site-packages (from matplotlib->featurewiz) (0.11.0)\r\n",
      "Requirement already satisfied: fonttools>=4.22.0 in /opt/conda/lib/python3.10/site-packages (from matplotlib->featurewiz) (4.42.1)\r\n",
      "Requirement already satisfied: kiwisolver>=1.0.1 in /opt/conda/lib/python3.10/site-packages (from matplotlib->featurewiz) (1.4.4)\r\n",
      "Requirement already satisfied: pyparsing>=2.3.1 in /opt/conda/lib/python3.10/site-packages (from matplotlib->featurewiz) (3.0.9)\r\n",
      "Requirement already satisfied: pytz>=2020.1 in /opt/conda/lib/python3.10/site-packages (from pandas<2.0,>=1.3.4->featurewiz) (2023.3)\r\n",
      "Requirement already satisfied: joblib>=1.1.1 in /opt/conda/lib/python3.10/site-packages (from scikit-learn<=1.2.2,>=0.24->featurewiz) (1.3.2)\r\n",
      "Requirement already satisfied: threadpoolctl>=2.0.0 in /opt/conda/lib/python3.10/site-packages (from scikit-learn<=1.2.2,>=0.24->featurewiz) (3.2.0)\r\n",
      "Requirement already satisfied: backcall in /opt/conda/lib/python3.10/site-packages (from ipython->featurewiz) (0.2.0)\r\n",
      "Requirement already satisfied: decorator in /opt/conda/lib/python3.10/site-packages (from ipython->featurewiz) (5.1.1)\r\n",
      "Requirement already satisfied: jedi>=0.16 in /opt/conda/lib/python3.10/site-packages (from ipython->featurewiz) (0.19.0)\r\n",
      "Requirement already satisfied: matplotlib-inline in /opt/conda/lib/python3.10/site-packages (from ipython->featurewiz) (0.1.6)\r\n",
      "Requirement already satisfied: pickleshare in /opt/conda/lib/python3.10/site-packages (from ipython->featurewiz) (0.7.5)\r\n",
      "Requirement already satisfied: prompt-toolkit!=3.0.37,<3.1.0,>=3.0.30 in /opt/conda/lib/python3.10/site-packages (from ipython->featurewiz) (3.0.39)\r\n",
      "Requirement already satisfied: pygments>=2.4.0 in /opt/conda/lib/python3.10/site-packages (from ipython->featurewiz) (2.16.1)\r\n",
      "Requirement already satisfied: stack-data in /opt/conda/lib/python3.10/site-packages (from ipython->featurewiz) (0.6.2)\r\n",
      "Requirement already satisfied: traitlets>=5 in /opt/conda/lib/python3.10/site-packages (from ipython->featurewiz) (5.9.0)\r\n",
      "Requirement already satisfied: pexpect>4.3 in /opt/conda/lib/python3.10/site-packages (from ipython->featurewiz) (4.8.0)\r\n",
      "Requirement already satisfied: notebook in /opt/conda/lib/python3.10/site-packages (from jupyter->featurewiz) (6.5.5)\r\n",
      "Requirement already satisfied: qtconsole in /opt/conda/lib/python3.10/site-packages (from jupyter->featurewiz) (5.5.0)\r\n",
      "Requirement already satisfied: jupyter-console in /opt/conda/lib/python3.10/site-packages (from jupyter->featurewiz) (6.6.3)\r\n",
      "Requirement already satisfied: nbconvert in /opt/conda/lib/python3.10/site-packages (from jupyter->featurewiz) (6.4.5)\r\n",
      "Requirement already satisfied: ipykernel in /opt/conda/lib/python3.10/site-packages (from jupyter->featurewiz) (6.25.1)\r\n",
      "Requirement already satisfied: ipywidgets in /opt/conda/lib/python3.10/site-packages (from jupyter->featurewiz) (7.7.1)\r\n",
      "Requirement already satisfied: zipp>=0.5 in /opt/conda/lib/python3.10/site-packages (from importlib-metadata>=4.13.0->dask>=2021.11.0->featurewiz) (3.16.2)\r\n",
      "Requirement already satisfied: parso<0.9.0,>=0.8.3 in /opt/conda/lib/python3.10/site-packages (from jedi>=0.16->ipython->featurewiz) (0.8.3)\r\n",
      "Requirement already satisfied: MarkupSafe>=2.0 in /opt/conda/lib/python3.10/site-packages (from jinja2>=2.10.3->distributed>=2021.11.0->featurewiz) (2.1.3)\r\n",
      "Requirement already satisfied: six in /opt/conda/lib/python3.10/site-packages (from patsy>=0.5.1->category-encoders>=2.6.2->featurewiz) (1.16.0)\r\n",
      "Requirement already satisfied: ptyprocess>=0.5 in /opt/conda/lib/python3.10/site-packages (from pexpect>4.3->ipython->featurewiz) (0.7.0)\r\n",
      "Requirement already satisfied: wcwidth in /opt/conda/lib/python3.10/site-packages (from prompt-toolkit!=3.0.37,<3.1.0,>=3.0.30->ipython->featurewiz) (0.2.6)\r\n",
      "Requirement already satisfied: comm>=0.1.1 in /opt/conda/lib/python3.10/site-packages (from ipykernel->jupyter->featurewiz) (0.1.4)\r\n",
      "Requirement already satisfied: debugpy>=1.6.5 in /opt/conda/lib/python3.10/site-packages (from ipykernel->jupyter->featurewiz) (1.6.7.post1)\r\n",
      "Requirement already satisfied: jupyter-client>=6.1.12 in /opt/conda/lib/python3.10/site-packages (from ipykernel->jupyter->featurewiz) (7.4.9)\r\n",
      "Requirement already satisfied: jupyter-core!=5.0.*,>=4.12 in /opt/conda/lib/python3.10/site-packages (from ipykernel->jupyter->featurewiz) (5.3.1)\r\n",
      "Requirement already satisfied: nest-asyncio in /opt/conda/lib/python3.10/site-packages (from ipykernel->jupyter->featurewiz) (1.5.6)\r\n",
      "Requirement already satisfied: pyzmq>=20 in /opt/conda/lib/python3.10/site-packages (from ipykernel->jupyter->featurewiz) (24.0.1)\r\n",
      "Requirement already satisfied: ipython-genutils~=0.2.0 in /opt/conda/lib/python3.10/site-packages (from ipywidgets->jupyter->featurewiz) (0.2.0)\r\n",
      "Requirement already satisfied: widgetsnbextension~=3.6.0 in /opt/conda/lib/python3.10/site-packages (from ipywidgets->jupyter->featurewiz) (3.6.6)\r\n",
      "Requirement already satisfied: jupyterlab-widgets>=1.0.0 in /opt/conda/lib/python3.10/site-packages (from ipywidgets->jupyter->featurewiz) (3.0.8)\r\n",
      "Requirement already satisfied: mistune<2,>=0.8.1 in /opt/conda/lib/python3.10/site-packages (from nbconvert->jupyter->featurewiz) (0.8.4)\r\n",
      "Requirement already satisfied: jupyterlab-pygments in /opt/conda/lib/python3.10/site-packages (from nbconvert->jupyter->featurewiz) (0.2.2)\r\n",
      "Requirement already satisfied: nbformat>=4.4 in /opt/conda/lib/python3.10/site-packages (from nbconvert->jupyter->featurewiz) (5.9.2)\r\n",
      "Requirement already satisfied: entrypoints>=0.2.2 in /opt/conda/lib/python3.10/site-packages (from nbconvert->jupyter->featurewiz) (0.4)\r\n",
      "Requirement already satisfied: bleach in /opt/conda/lib/python3.10/site-packages (from nbconvert->jupyter->featurewiz) (6.0.0)\r\n",
      "Requirement already satisfied: pandocfilters>=1.4.1 in /opt/conda/lib/python3.10/site-packages (from nbconvert->jupyter->featurewiz) (1.5.0)\r\n",
      "Requirement already satisfied: testpath in /opt/conda/lib/python3.10/site-packages (from nbconvert->jupyter->featurewiz) (0.6.0)\r\n",
      "Requirement already satisfied: defusedxml in /opt/conda/lib/python3.10/site-packages (from nbconvert->jupyter->featurewiz) (0.7.1)\r\n",
      "Requirement already satisfied: beautifulsoup4 in /opt/conda/lib/python3.10/site-packages (from nbconvert->jupyter->featurewiz) (4.12.2)\r\n",
      "Requirement already satisfied: nbclient<0.6.0,>=0.5.0 in /opt/conda/lib/python3.10/site-packages (from nbconvert->jupyter->featurewiz) (0.5.13)\r\n",
      "Requirement already satisfied: argon2-cffi in /opt/conda/lib/python3.10/site-packages (from notebook->jupyter->featurewiz) (21.3.0)\r\n",
      "Requirement already satisfied: Send2Trash>=1.8.0 in /opt/conda/lib/python3.10/site-packages (from notebook->jupyter->featurewiz) (1.8.2)\r\n",
      "Requirement already satisfied: terminado>=0.8.3 in /opt/conda/lib/python3.10/site-packages (from notebook->jupyter->featurewiz) (0.17.1)\r\n",
      "Requirement already satisfied: prometheus-client in /opt/conda/lib/python3.10/site-packages (from notebook->jupyter->featurewiz) (0.17.1)\r\n",
      "Requirement already satisfied: nbclassic>=0.4.7 in /opt/conda/lib/python3.10/site-packages (from notebook->jupyter->featurewiz) (1.0.0)\r\n",
      "Requirement already satisfied: qtpy>=2.4.0 in /opt/conda/lib/python3.10/site-packages (from qtconsole->jupyter->featurewiz) (2.4.1)\r\n",
      "Requirement already satisfied: executing>=1.2.0 in /opt/conda/lib/python3.10/site-packages (from stack-data->ipython->featurewiz) (1.2.0)\r\n",
      "Requirement already satisfied: asttokens>=2.1.0 in /opt/conda/lib/python3.10/site-packages (from stack-data->ipython->featurewiz) (2.2.1)\r\n",
      "Requirement already satisfied: pure-eval in /opt/conda/lib/python3.10/site-packages (from stack-data->ipython->featurewiz) (0.2.2)\r\n",
      "Requirement already satisfied: platformdirs>=2.5 in /opt/conda/lib/python3.10/site-packages (from jupyter-core!=5.0.*,>=4.12->ipykernel->jupyter->featurewiz) (4.0.0)\r\n",
      "Requirement already satisfied: jupyter-server>=1.8 in /opt/conda/lib/python3.10/site-packages (from nbclassic>=0.4.7->notebook->jupyter->featurewiz) (2.10.0)\r\n",
      "Requirement already satisfied: notebook-shim>=0.2.3 in /opt/conda/lib/python3.10/site-packages (from nbclassic>=0.4.7->notebook->jupyter->featurewiz) (0.2.3)\r\n",
      "Requirement already satisfied: fastjsonschema in /opt/conda/lib/python3.10/site-packages (from nbformat>=4.4->nbconvert->jupyter->featurewiz) (2.18.0)\r\n",
      "Requirement already satisfied: jsonschema>=2.6 in /opt/conda/lib/python3.10/site-packages (from nbformat>=4.4->nbconvert->jupyter->featurewiz) (4.19.0)\r\n",
      "Requirement already satisfied: argon2-cffi-bindings in /opt/conda/lib/python3.10/site-packages (from argon2-cffi->notebook->jupyter->featurewiz) (21.2.0)\r\n",
      "Requirement already satisfied: soupsieve>1.2 in /opt/conda/lib/python3.10/site-packages (from beautifulsoup4->nbconvert->jupyter->featurewiz) (2.3.2.post1)\r\n",
      "Requirement already satisfied: webencodings in /opt/conda/lib/python3.10/site-packages (from bleach->nbconvert->jupyter->featurewiz) (0.5.1)\r\n",
      "Requirement already satisfied: attrs>=22.2.0 in /opt/conda/lib/python3.10/site-packages (from jsonschema>=2.6->nbformat>=4.4->nbconvert->jupyter->featurewiz) (23.1.0)\r\n",
      "Requirement already satisfied: jsonschema-specifications>=2023.03.6 in /opt/conda/lib/python3.10/site-packages (from jsonschema>=2.6->nbformat>=4.4->nbconvert->jupyter->featurewiz) (2023.7.1)\r\n",
      "Requirement already satisfied: referencing>=0.28.4 in /opt/conda/lib/python3.10/site-packages (from jsonschema>=2.6->nbformat>=4.4->nbconvert->jupyter->featurewiz) (0.30.2)\r\n",
      "Requirement already satisfied: rpds-py>=0.7.1 in /opt/conda/lib/python3.10/site-packages (from jsonschema>=2.6->nbformat>=4.4->nbconvert->jupyter->featurewiz) (0.9.2)\r\n",
      "Requirement already satisfied: anyio>=3.1.0 in /opt/conda/lib/python3.10/site-packages (from jupyter-server>=1.8->nbclassic>=0.4.7->notebook->jupyter->featurewiz) (3.7.1)\r\n",
      "Requirement already satisfied: jupyter-events>=0.6.0 in /opt/conda/lib/python3.10/site-packages (from jupyter-server>=1.8->nbclassic>=0.4.7->notebook->jupyter->featurewiz) (0.7.0)\r\n",
      "Requirement already satisfied: jupyter-server-terminals in /opt/conda/lib/python3.10/site-packages (from jupyter-server>=1.8->nbclassic>=0.4.7->notebook->jupyter->featurewiz) (0.4.4)\r\n",
      "Requirement already satisfied: overrides in /opt/conda/lib/python3.10/site-packages (from jupyter-server>=1.8->nbclassic>=0.4.7->notebook->jupyter->featurewiz) (6.5.0)\r\n",
      "Requirement already satisfied: websocket-client in /opt/conda/lib/python3.10/site-packages (from jupyter-server>=1.8->nbclassic>=0.4.7->notebook->jupyter->featurewiz) (1.6.2)\r\n",
      "Requirement already satisfied: cffi>=1.0.1 in /opt/conda/lib/python3.10/site-packages (from argon2-cffi-bindings->argon2-cffi->notebook->jupyter->featurewiz) (1.15.1)\r\n",
      "Requirement already satisfied: idna>=2.8 in /opt/conda/lib/python3.10/site-packages (from anyio>=3.1.0->jupyter-server>=1.8->nbclassic>=0.4.7->notebook->jupyter->featurewiz) (3.4)\r\n",
      "Requirement already satisfied: sniffio>=1.1 in /opt/conda/lib/python3.10/site-packages (from anyio>=3.1.0->jupyter-server>=1.8->nbclassic>=0.4.7->notebook->jupyter->featurewiz) (1.3.0)\r\n",
      "Requirement already satisfied: exceptiongroup in /opt/conda/lib/python3.10/site-packages (from anyio>=3.1.0->jupyter-server>=1.8->nbclassic>=0.4.7->notebook->jupyter->featurewiz) (1.1.3)\r\n",
      "Requirement already satisfied: pycparser in /opt/conda/lib/python3.10/site-packages (from cffi>=1.0.1->argon2-cffi-bindings->argon2-cffi->notebook->jupyter->featurewiz) (2.21)\r\n",
      "Requirement already satisfied: python-json-logger>=2.0.4 in /opt/conda/lib/python3.10/site-packages (from jupyter-events>=0.6.0->jupyter-server>=1.8->nbclassic>=0.4.7->notebook->jupyter->featurewiz) (2.0.7)\r\n",
      "Requirement already satisfied: rfc3339-validator in /opt/conda/lib/python3.10/site-packages (from jupyter-events>=0.6.0->jupyter-server>=1.8->nbclassic>=0.4.7->notebook->jupyter->featurewiz) (0.1.4)\r\n",
      "Requirement already satisfied: rfc3986-validator>=0.1.1 in /opt/conda/lib/python3.10/site-packages (from jupyter-events>=0.6.0->jupyter-server>=1.8->nbclassic>=0.4.7->notebook->jupyter->featurewiz) (0.1.1)\r\n",
      "Requirement already satisfied: fqdn in /opt/conda/lib/python3.10/site-packages (from jsonschema>=2.6->nbformat>=4.4->nbconvert->jupyter->featurewiz) (1.5.1)\r\n",
      "Requirement already satisfied: isoduration in /opt/conda/lib/python3.10/site-packages (from jsonschema>=2.6->nbformat>=4.4->nbconvert->jupyter->featurewiz) (20.11.0)\r\n",
      "Requirement already satisfied: jsonpointer>1.13 in /opt/conda/lib/python3.10/site-packages (from jsonschema>=2.6->nbformat>=4.4->nbconvert->jupyter->featurewiz) (2.0)\r\n",
      "Requirement already satisfied: uri-template in /opt/conda/lib/python3.10/site-packages (from jsonschema>=2.6->nbformat>=4.4->nbconvert->jupyter->featurewiz) (1.3.0)\r\n",
      "Requirement already satisfied: webcolors>=1.11 in /opt/conda/lib/python3.10/site-packages (from jsonschema>=2.6->nbformat>=4.4->nbconvert->jupyter->featurewiz) (1.13)\r\n",
      "Requirement already satisfied: arrow>=0.15.0 in /opt/conda/lib/python3.10/site-packages (from isoduration->jsonschema>=2.6->nbformat>=4.4->nbconvert->jupyter->featurewiz) (1.2.3)\r\n",
      "Downloading featurewiz-0.4.7-py3-none-any.whl (118 kB)\r\n",
      "\u001b[2K   \u001b[90m━━━━━━━━━━━━━━━━━━━━━━━━━━━━━━━━━━━━━━━━\u001b[0m \u001b[32m118.6/118.6 kB\u001b[0m \u001b[31m8.7 MB/s\u001b[0m eta \u001b[36m0:00:00\u001b[0m\r\n",
      "\u001b[?25hDownloading lazytransform-1.10-py3-none-any.whl (57 kB)\r\n",
      "\u001b[2K   \u001b[90m━━━━━━━━━━━━━━━━━━━━━━━━━━━━━━━━━━━━━━━━\u001b[0m \u001b[32m57.1/57.1 kB\u001b[0m \u001b[31m4.2 MB/s\u001b[0m eta \u001b[36m0:00:00\u001b[0m\r\n",
      "\u001b[?25hInstalling collected packages: xlrd, xgboost, pandas, lazytransform, jupyter, featurewiz\r\n",
      "  Attempting uninstall: xgboost\r\n",
      "    Found existing installation: xgboost 2.0.1\r\n",
      "    Uninstalling xgboost-2.0.1:\r\n",
      "      Successfully uninstalled xgboost-2.0.1\r\n",
      "  Attempting uninstall: pandas\r\n",
      "    Found existing installation: pandas 2.0.3\r\n",
      "    Uninstalling pandas-2.0.3:\r\n",
      "      Successfully uninstalled pandas-2.0.3\r\n",
      "\u001b[31mERROR: pip's dependency resolver does not currently take into account all the packages that are installed. This behaviour is the source of the following dependency conflicts.\r\n",
      "beatrix-jupyterlab 2023.814.150030 requires jupyter-server~=1.16, but you have jupyter-server 2.10.0 which is incompatible.\r\n",
      "beatrix-jupyterlab 2023.814.150030 requires jupyterlab~=3.4, but you have jupyterlab 4.0.5 which is incompatible.\r\n",
      "fitter 1.6.0 requires pandas<3.0.0,>=2.0.3, but you have pandas 1.5.3 which is incompatible.\r\n",
      "libpysal 4.9.2 requires packaging>=22, but you have packaging 21.3 which is incompatible.\r\n",
      "libpysal 4.9.2 requires shapely>=2.0.1, but you have shapely 1.8.5.post1 which is incompatible.\r\n",
      "momepy 0.6.0 requires shapely>=2, but you have shapely 1.8.5.post1 which is incompatible.\r\n",
      "pymc3 3.11.5 requires numpy<1.22.2,>=1.15.0, but you have numpy 1.24.3 which is incompatible.\r\n",
      "pymc3 3.11.5 requires scipy<1.8.0,>=1.7.3, but you have scipy 1.11.3 which is incompatible.\r\n",
      "tensorflowjs 4.13.0 requires packaging~=23.1, but you have packaging 21.3 which is incompatible.\r\n",
      "ydata-profiling 4.5.1 requires numpy<1.24,>=1.16.0, but you have numpy 1.24.3 which is incompatible.\u001b[0m\u001b[31m\r\n",
      "\u001b[0mSuccessfully installed featurewiz-0.4.7 jupyter-1.0.0 lazytransform-1.10 pandas-1.5.3 xgboost-1.6.2 xlrd-2.0.1\r\n"
     ]
    }
   ],
   "source": [
    "# pip install the library\n",
    "!pip install featurewiz "
   ]
  },
  {
   "cell_type": "code",
   "execution_count": 26,
   "id": "adc20299",
   "metadata": {
    "execution": {
     "iopub.execute_input": "2023-12-06T11:17:55.880734Z",
     "iopub.status.busy": "2023-12-06T11:17:55.880284Z",
     "iopub.status.idle": "2023-12-06T11:17:56.401992Z",
     "shell.execute_reply": "2023-12-06T11:17:56.400085Z"
    },
    "papermill": {
     "duration": 0.565678,
     "end_time": "2023-12-06T11:17:56.404994",
     "exception": false,
     "start_time": "2023-12-06T11:17:55.839316",
     "status": "completed"
    },
    "tags": []
   },
   "outputs": [
    {
     "name": "stdout",
     "output_type": "stream",
     "text": [
      "Imported lazytransform v1.9. \n",
      "\n",
      "Imported featurewiz 0.4.7. Use the following syntax:\n",
      "    >>> wiz = FeatureWiz(feature_engg = '', nrows=None, transform_target=True, scalers=\"std\",\n",
      "        \t\tcategory_encoders=\"auto\", add_missing=False, verbose=0)\n",
      "    >>> X_train_selected, y_train = wiz.fit_transform(X_train, y_train)\n",
      "    >>> X_test_selected = wiz.transform(X_test)\n",
      "    >>> selected_features = wiz.features\n",
      "    \n"
     ]
    }
   ],
   "source": [
    "from featurewiz import featurewiz\n",
    "#specify the target from your dataset\n",
    "target = 'Attrition'"
   ]
  },
  {
   "cell_type": "code",
   "execution_count": 27,
   "id": "33510bc0",
   "metadata": {
    "execution": {
     "iopub.execute_input": "2023-12-06T11:17:56.486672Z",
     "iopub.status.busy": "2023-12-06T11:17:56.485996Z",
     "iopub.status.idle": "2023-12-06T11:17:57.328585Z",
     "shell.execute_reply": "2023-12-06T11:17:57.327125Z"
    },
    "papermill": {
     "duration": 0.886787,
     "end_time": "2023-12-06T11:17:57.331849",
     "exception": false,
     "start_time": "2023-12-06T11:17:56.445062",
     "status": "completed"
    },
    "tags": []
   },
   "outputs": [
    {
     "name": "stdout",
     "output_type": "stream",
     "text": [
      "featurewiz has selected 0.7 as the correlation limit. Change this limit to fit your needs...\n",
      "    Skipping feature engineering since no feature_engg input...\n",
      "Skipping category encoding since no category encoders specified in input...\n",
      "    Single_Label Binary_Classification problem \n",
      "    Loaded train data. Shape = (1677, 31)\n",
      "    Single_Label Binary_Classification problem \n",
      "No test data filename given...\n",
      "#######################################################################################\n",
      "######################## C L A S S I F Y I N G  V A R I A B L E S  ####################\n",
      "#######################################################################################\n",
      "        No variables were removed since no ID or low-information variables found in data set\n",
      "Removing 0 columns from further processing since ID or low information variables\n",
      "    target labels need to be converted...\n",
      "Completed label encoding of target variable = Attrition\n",
      "How model predictions need to be transformed for Attrition:\n",
      "\t{0: '0', 1: '1'}\n",
      "Starting SULOV with 23 features...\n",
      "    there are no null values in dataset...\n",
      "    there are no null values in target column...\n",
      "Completed SULOV. 18 features selected\n",
      "Time taken for SULOV method = 0 seconds\n",
      "Finally 25 vars selected after SULOV\n",
      "Converting all features to numeric before sending to XGBoost...\n",
      "    there were no mixed data types or object columns that errored. Data is all numeric...\n",
      "Shape of train data after adding missing values flags = (1677, 26)\n",
      "    Completed XGBoost feature selection in 1 seconds\n",
      "Selected 17 important features:\n",
      "['Age', 'DailyRate', 'DistanceFromHome', 'HourlyRate', 'MonthlyRate', 'StockOptionLevel', 'YearsAtCompany', 'OverTime', 'JobRole', 'NumCompaniesWorked', 'RelationshipSatisfaction', 'YearsSinceLastPromotion', 'TrainingTimesLastYear', 'JobLevel', 'EducationField', 'MaritalStatus', 'Gender']\n",
      "Total Time taken for featurewiz selection = 1 seconds\n",
      "Output contains a list of 17 important features and a train dataframe\n"
     ]
    },
    {
     "data": {
      "text/plain": [
       "2"
      ]
     },
     "execution_count": 27,
     "metadata": {},
     "output_type": "execute_result"
    }
   ],
   "source": [
    "feats = featurewiz(data, target, corr_limit=0.7, verbose=0)\n",
    "len(feats)"
   ]
  },
  {
   "cell_type": "code",
   "execution_count": 28,
   "id": "cee0b58d",
   "metadata": {
    "execution": {
     "iopub.execute_input": "2023-12-06T11:17:57.412754Z",
     "iopub.status.busy": "2023-12-06T11:17:57.412346Z",
     "iopub.status.idle": "2023-12-06T11:17:57.420213Z",
     "shell.execute_reply": "2023-12-06T11:17:57.418998Z"
    },
    "papermill": {
     "duration": 0.051639,
     "end_time": "2023-12-06T11:17:57.423102",
     "exception": false,
     "start_time": "2023-12-06T11:17:57.371463",
     "status": "completed"
    },
    "tags": []
   },
   "outputs": [
    {
     "data": {
      "text/plain": [
       "30"
      ]
     },
     "execution_count": 28,
     "metadata": {},
     "output_type": "execute_result"
    }
   ],
   "source": [
    "#print out the total number of features from which the 17 aboves were selected\n",
    "oldfeats = [x for x in list(data) if x not in [target]]\n",
    "len(oldfeats)"
   ]
  },
  {
   "cell_type": "code",
   "execution_count": 29,
   "id": "80a4c7de",
   "metadata": {
    "execution": {
     "iopub.execute_input": "2023-12-06T11:17:57.504682Z",
     "iopub.status.busy": "2023-12-06T11:17:57.504237Z",
     "iopub.status.idle": "2023-12-06T11:17:57.526197Z",
     "shell.execute_reply": "2023-12-06T11:17:57.525110Z"
    },
    "papermill": {
     "duration": 0.06614,
     "end_time": "2023-12-06T11:17:57.528875",
     "exception": false,
     "start_time": "2023-12-06T11:17:57.462735",
     "status": "completed"
    },
    "tags": []
   },
   "outputs": [
    {
     "data": {
      "text/html": [
       "<div>\n",
       "<style scoped>\n",
       "    .dataframe tbody tr th:only-of-type {\n",
       "        vertical-align: middle;\n",
       "    }\n",
       "\n",
       "    .dataframe tbody tr th {\n",
       "        vertical-align: top;\n",
       "    }\n",
       "\n",
       "    .dataframe thead th {\n",
       "        text-align: right;\n",
       "    }\n",
       "</style>\n",
       "<table border=\"1\" class=\"dataframe\">\n",
       "  <thead>\n",
       "    <tr style=\"text-align: right;\">\n",
       "      <th></th>\n",
       "      <th>Age</th>\n",
       "      <th>DailyRate</th>\n",
       "      <th>DistanceFromHome</th>\n",
       "      <th>HourlyRate</th>\n",
       "      <th>MonthlyRate</th>\n",
       "      <th>StockOptionLevel</th>\n",
       "      <th>YearsAtCompany</th>\n",
       "      <th>OverTime</th>\n",
       "      <th>JobRole</th>\n",
       "      <th>NumCompaniesWorked</th>\n",
       "      <th>RelationshipSatisfaction</th>\n",
       "      <th>YearsSinceLastPromotion</th>\n",
       "      <th>TrainingTimesLastYear</th>\n",
       "      <th>JobLevel</th>\n",
       "      <th>EducationField</th>\n",
       "      <th>MaritalStatus</th>\n",
       "      <th>Gender</th>\n",
       "      <th>Attrition</th>\n",
       "    </tr>\n",
       "  </thead>\n",
       "  <tbody>\n",
       "    <tr>\n",
       "      <th>0</th>\n",
       "      <td>36</td>\n",
       "      <td>599</td>\n",
       "      <td>24</td>\n",
       "      <td>42</td>\n",
       "      <td>5099</td>\n",
       "      <td>1</td>\n",
       "      <td>10</td>\n",
       "      <td>Yes</td>\n",
       "      <td>Laboratory Technician</td>\n",
       "      <td>1</td>\n",
       "      <td>2</td>\n",
       "      <td>7</td>\n",
       "      <td>2</td>\n",
       "      <td>1</td>\n",
       "      <td>Medical</td>\n",
       "      <td>Married</td>\n",
       "      <td>Male</td>\n",
       "      <td>0</td>\n",
       "    </tr>\n",
       "    <tr>\n",
       "      <th>1</th>\n",
       "      <td>35</td>\n",
       "      <td>921</td>\n",
       "      <td>8</td>\n",
       "      <td>46</td>\n",
       "      <td>10778</td>\n",
       "      <td>1</td>\n",
       "      <td>4</td>\n",
       "      <td>No</td>\n",
       "      <td>Sales Representative</td>\n",
       "      <td>1</td>\n",
       "      <td>4</td>\n",
       "      <td>0</td>\n",
       "      <td>3</td>\n",
       "      <td>1</td>\n",
       "      <td>Other</td>\n",
       "      <td>Married</td>\n",
       "      <td>Male</td>\n",
       "      <td>0</td>\n",
       "    </tr>\n",
       "  </tbody>\n",
       "</table>\n",
       "</div>"
      ],
      "text/plain": [
       "   Age  DailyRate  DistanceFromHome  HourlyRate  MonthlyRate  \\\n",
       "0   36        599                24          42         5099   \n",
       "1   35        921                 8          46        10778   \n",
       "\n",
       "   StockOptionLevel  YearsAtCompany OverTime                JobRole  \\\n",
       "0                 1              10      Yes  Laboratory Technician   \n",
       "1                 1               4       No   Sales Representative   \n",
       "\n",
       "   NumCompaniesWorked  RelationshipSatisfaction  YearsSinceLastPromotion  \\\n",
       "0                   1                         2                        7   \n",
       "1                   1                         4                        0   \n",
       "\n",
       "   TrainingTimesLastYear  JobLevel EducationField MaritalStatus Gender  \\\n",
       "0                      2         1        Medical       Married   Male   \n",
       "1                      3         1          Other       Married   Male   \n",
       "\n",
       "  Attrition  \n",
       "0         0  \n",
       "1         0  "
      ]
     },
     "execution_count": 29,
     "metadata": {},
     "output_type": "execute_result"
    }
   ],
   "source": [
    "# Creating a new dataframe with the selected features from featurewiz\n",
    "ndf= data[['Age', 'DailyRate', 'DistanceFromHome', 'HourlyRate', 'MonthlyRate', \n",
    "           'StockOptionLevel', 'YearsAtCompany', 'OverTime', 'JobRole',\n",
    "           'NumCompaniesWorked', 'RelationshipSatisfaction', 'YearsSinceLastPromotion',\n",
    "           'TrainingTimesLastYear', \n",
    "           'JobLevel', 'EducationField', 'MaritalStatus', 'Gender', 'Attrition']]\n",
    "ndf.head(2)"
   ]
  },
  {
   "cell_type": "code",
   "execution_count": 30,
   "id": "db83b5c0",
   "metadata": {
    "execution": {
     "iopub.execute_input": "2023-12-06T11:17:57.610227Z",
     "iopub.status.busy": "2023-12-06T11:17:57.609772Z",
     "iopub.status.idle": "2023-12-06T11:17:57.630890Z",
     "shell.execute_reply": "2023-12-06T11:17:57.629760Z"
    },
    "papermill": {
     "duration": 0.064914,
     "end_time": "2023-12-06T11:17:57.633487",
     "exception": false,
     "start_time": "2023-12-06T11:17:57.568573",
     "status": "completed"
    },
    "tags": []
   },
   "outputs": [
    {
     "data": {
      "text/html": [
       "<div>\n",
       "<style scoped>\n",
       "    .dataframe tbody tr th:only-of-type {\n",
       "        vertical-align: middle;\n",
       "    }\n",
       "\n",
       "    .dataframe tbody tr th {\n",
       "        vertical-align: top;\n",
       "    }\n",
       "\n",
       "    .dataframe thead th {\n",
       "        text-align: right;\n",
       "    }\n",
       "</style>\n",
       "<table border=\"1\" class=\"dataframe\">\n",
       "  <thead>\n",
       "    <tr style=\"text-align: right;\">\n",
       "      <th></th>\n",
       "      <th>Age</th>\n",
       "      <th>DailyRate</th>\n",
       "      <th>DistanceFromHome</th>\n",
       "      <th>HourlyRate</th>\n",
       "      <th>MonthlyRate</th>\n",
       "      <th>StockOptionLevel</th>\n",
       "      <th>YearsAtCompany</th>\n",
       "      <th>OverTime</th>\n",
       "      <th>JobRole</th>\n",
       "      <th>NumCompaniesWorked</th>\n",
       "      <th>RelationshipSatisfaction</th>\n",
       "      <th>YearsSinceLastPromotion</th>\n",
       "      <th>TrainingTimesLastYear</th>\n",
       "      <th>JobLevel</th>\n",
       "      <th>EducationField</th>\n",
       "      <th>MaritalStatus</th>\n",
       "      <th>Gender</th>\n",
       "    </tr>\n",
       "  </thead>\n",
       "  <tbody>\n",
       "    <tr>\n",
       "      <th>0</th>\n",
       "      <td>19</td>\n",
       "      <td>992</td>\n",
       "      <td>1</td>\n",
       "      <td>43</td>\n",
       "      <td>17778</td>\n",
       "      <td>0</td>\n",
       "      <td>1</td>\n",
       "      <td>No</td>\n",
       "      <td>Laboratory Technician</td>\n",
       "      <td>1</td>\n",
       "      <td>4</td>\n",
       "      <td>0</td>\n",
       "      <td>2</td>\n",
       "      <td>1</td>\n",
       "      <td>Medical</td>\n",
       "      <td>Single</td>\n",
       "      <td>Male</td>\n",
       "    </tr>\n",
       "    <tr>\n",
       "      <th>1</th>\n",
       "      <td>45</td>\n",
       "      <td>1136</td>\n",
       "      <td>4</td>\n",
       "      <td>67</td>\n",
       "      <td>12421</td>\n",
       "      <td>1</td>\n",
       "      <td>2</td>\n",
       "      <td>Yes</td>\n",
       "      <td>Sales Executive</td>\n",
       "      <td>6</td>\n",
       "      <td>3</td>\n",
       "      <td>2</td>\n",
       "      <td>3</td>\n",
       "      <td>2</td>\n",
       "      <td>Marketing</td>\n",
       "      <td>Divorced</td>\n",
       "      <td>Male</td>\n",
       "    </tr>\n",
       "  </tbody>\n",
       "</table>\n",
       "</div>"
      ],
      "text/plain": [
       "   Age  DailyRate  DistanceFromHome  HourlyRate  MonthlyRate  \\\n",
       "0   19        992                 1          43        17778   \n",
       "1   45       1136                 4          67        12421   \n",
       "\n",
       "   StockOptionLevel  YearsAtCompany OverTime                JobRole  \\\n",
       "0                 0               1       No  Laboratory Technician   \n",
       "1                 1               2      Yes        Sales Executive   \n",
       "\n",
       "   NumCompaniesWorked  RelationshipSatisfaction  YearsSinceLastPromotion  \\\n",
       "0                   1                         4                        0   \n",
       "1                   6                         3                        2   \n",
       "\n",
       "   TrainingTimesLastYear  JobLevel EducationField MaritalStatus Gender  \n",
       "0                      2         1        Medical        Single   Male  \n",
       "1                      3         2      Marketing      Divorced   Male  "
      ]
     },
     "execution_count": 30,
     "metadata": {},
     "output_type": "execute_result"
    }
   ],
   "source": [
    "test = test[['Age', 'DailyRate', 'DistanceFromHome', 'HourlyRate', 'MonthlyRate', \n",
    "           'StockOptionLevel', 'YearsAtCompany', 'OverTime', 'JobRole',\n",
    "           'NumCompaniesWorked', 'RelationshipSatisfaction', 'YearsSinceLastPromotion',\n",
    "           'TrainingTimesLastYear', \n",
    "           'JobLevel', 'EducationField', 'MaritalStatus', 'Gender']]\n",
    "test.head(2)"
   ]
  },
  {
   "cell_type": "code",
   "execution_count": 31,
   "id": "82c1ed66",
   "metadata": {
    "execution": {
     "iopub.execute_input": "2023-12-06T11:17:57.714986Z",
     "iopub.status.busy": "2023-12-06T11:17:57.714546Z",
     "iopub.status.idle": "2023-12-06T11:17:59.818665Z",
     "shell.execute_reply": "2023-12-06T11:17:59.817545Z"
    },
    "papermill": {
     "duration": 2.148088,
     "end_time": "2023-12-06T11:17:59.821493",
     "exception": false,
     "start_time": "2023-12-06T11:17:57.673405",
     "status": "completed"
    },
    "tags": []
   },
   "outputs": [
    {
     "data": {
      "image/png": "[encoded data removed]",
      "text/plain": [
       "<Figure size 640x480 with 12 Axes>"
      ]
     },
     "metadata": {},
     "output_type": "display_data"
    }
   ],
   "source": [
    "fig = ndf.hist(xlabelsize=4, ylabelsize=4)\n",
    "[x.title.set_size(4) for x in fig.ravel()]\n",
    "# show the plot\n",
    "plt.show()"
   ]
  },
  {
   "cell_type": "code",
   "execution_count": 32,
   "id": "76306657",
   "metadata": {
    "execution": {
     "iopub.execute_input": "2023-12-06T11:17:59.906620Z",
     "iopub.status.busy": "2023-12-06T11:17:59.905862Z",
     "iopub.status.idle": "2023-12-06T11:18:00.431994Z",
     "shell.execute_reply": "2023-12-06T11:18:00.431127Z"
    },
    "papermill": {
     "duration": 0.572722,
     "end_time": "2023-12-06T11:18:00.435104",
     "exception": false,
     "start_time": "2023-12-06T11:17:59.862382",
     "status": "completed"
    },
    "tags": []
   },
   "outputs": [
    {
     "data": {
      "image/png": "[encoded data removed]",
      "text/plain": [
       "<Figure size 1200x800 with 1 Axes>"
      ]
     },
     "metadata": {},
     "output_type": "display_data"
    }
   ],
   "source": [
    "plt.figure(figsize=(12, 8))\n",
    "sns.boxplot(data=ndf, orient='h')\n",
    "plt.title('Boxplot of Numerical Variables')\n",
    "plt.show()"
   ]
  },
  {
   "cell_type": "code",
   "execution_count": 33,
   "id": "da61915a",
   "metadata": {
    "execution": {
     "iopub.execute_input": "2023-12-06T11:18:00.521235Z",
     "iopub.status.busy": "2023-12-06T11:18:00.520531Z",
     "iopub.status.idle": "2023-12-06T11:18:00.561627Z",
     "shell.execute_reply": "2023-12-06T11:18:00.560241Z"
    },
    "papermill": {
     "duration": 0.087875,
     "end_time": "2023-12-06T11:18:00.564734",
     "exception": false,
     "start_time": "2023-12-06T11:18:00.476859",
     "status": "completed"
    },
    "tags": []
   },
   "outputs": [],
   "source": [
    "num =ndf.select_dtypes(include=['float64', 'int64']).columns\n",
    "cat= ndf.select_dtypes(include=['object', 'bool']).columns\n",
    "# Function to remove outliers using IQR method\n",
    "def remove_outliers_iqr(df, variable, k=1.5):\n",
    "    Q1 = df[variable].quantile(0.25)\n",
    "    Q3 = df[variable].quantile(0.75)\n",
    "    IQR = Q3 - Q1\n",
    "    lower_bound = Q1 - k * IQR\n",
    "    upper_bound = Q3 + k * IQR\n",
    "    return df[(df[variable] >= lower_bound) & (df[variable] <= upper_bound)]\n",
    "\n",
    "# Specify the columns for which you want to remove outliers\n",
    "columns_to_remove_outliers = ndf[num]\n",
    "\n",
    "# Remove outliers for each column\n",
    "for col in columns_to_remove_outliers:\n",
    "    ndf = remove_outliers_iqr(ndf, col)"
   ]
  },
  {
   "cell_type": "code",
   "execution_count": 34,
   "id": "af890e0d",
   "metadata": {
    "execution": {
     "iopub.execute_input": "2023-12-06T11:18:00.650746Z",
     "iopub.status.busy": "2023-12-06T11:18:00.649855Z",
     "iopub.status.idle": "2023-12-06T11:18:01.154929Z",
     "shell.execute_reply": "2023-12-06T11:18:01.153850Z"
    },
    "papermill": {
     "duration": 0.550722,
     "end_time": "2023-12-06T11:18:01.157294",
     "exception": false,
     "start_time": "2023-12-06T11:18:00.606572",
     "status": "completed"
    },
    "tags": []
   },
   "outputs": [
    {
     "data": {
      "image/png": "[encoded data removed]",
      "text/plain": [
       "<Figure size 1200x800 with 1 Axes>"
      ]
     },
     "metadata": {},
     "output_type": "display_data"
    }
   ],
   "source": [
    "plt.figure(figsize=(12, 8))\n",
    "sns.boxplot(data=ndf, orient='h')\n",
    "plt.title('Boxplot of Numerical Variables')\n",
    "plt.show()"
   ]
  },
  {
   "cell_type": "markdown",
   "id": "74605567",
   "metadata": {
    "papermill": {
     "duration": 0.043517,
     "end_time": "2023-12-06T11:18:01.243097",
     "exception": false,
     "start_time": "2023-12-06T11:18:01.199580",
     "status": "completed"
    },
    "tags": []
   },
   "source": [
    "#      `SMOTE`\n",
    "* We tried three different model above, each gave accuarcy above 80%, however, this isn't reliable as such accuracy for an imblance dataset is only predicting the majority class.\n",
    "* This is reflected in a low recall of the minority class.\n",
    "* One way to address this short coming is to either undersample the majority class or oversample the minority class.\n",
    "* Smote implement a fit_resample method, which isn't compactable with pipeline from sklearn. This is because, Sklearn-pipeline support only transformations that implement a fit_transform method\n",
    "* Thus, we will be using make_pipeline or Pipeline from imblearn.pipeline to over come this challenge."
   ]
  },
  {
   "cell_type": "markdown",
   "id": "0c265c4b",
   "metadata": {
    "papermill": {
     "duration": 0.042276,
     "end_time": "2023-12-06T11:18:01.328207",
     "exception": false,
     "start_time": "2023-12-06T11:18:01.285931",
     "status": "completed"
    },
    "tags": []
   },
   "source": [
    "* ndf conatians only the important features we derived from featurewiz"
   ]
  },
  {
   "cell_type": "code",
   "execution_count": 35,
   "id": "6349ccbc",
   "metadata": {
    "execution": {
     "iopub.execute_input": "2023-12-06T11:18:01.418244Z",
     "iopub.status.busy": "2023-12-06T11:18:01.417597Z",
     "iopub.status.idle": "2023-12-06T11:18:03.328169Z",
     "shell.execute_reply": "2023-12-06T11:18:03.327164Z"
    },
    "papermill": {
     "duration": 1.959182,
     "end_time": "2023-12-06T11:18:03.330831",
     "exception": false,
     "start_time": "2023-12-06T11:18:01.371649",
     "status": "completed"
    },
    "tags": []
   },
   "outputs": [
    {
     "name": "stdout",
     "output_type": "stream",
     "text": [
      "RandomForest\n",
      "model accuracy - 88.0\n",
      "model AUC-ROC  0.8794981060606061\n",
      "              precision    recall  f1-score   support\n",
      "\n",
      "           0       0.92      0.95      0.93       176\n",
      "           1       0.50      0.38      0.43        24\n",
      "\n",
      "    accuracy                           0.88       200\n",
      "   macro avg       0.71      0.66      0.68       200\n",
      "weighted avg       0.87      0.88      0.87       200\n",
      "\n",
      "*****************************************\n",
      "AdaBoost\n",
      "model accuracy - 86.0\n",
      "model AUC-ROC  0.9083806818181819\n",
      "              precision    recall  f1-score   support\n",
      "\n",
      "           0       0.95      0.89      0.92       176\n",
      "           1       0.44      0.67      0.53        24\n",
      "\n",
      "    accuracy                           0.86       200\n",
      "   macro avg       0.70      0.78      0.73       200\n",
      "weighted avg       0.89      0.86      0.87       200\n",
      "\n",
      "*****************************************\n",
      "LogisticRegression\n",
      "model accuracy - 73.5\n",
      "model AUC-ROC  0.8705018939393939\n",
      "              precision    recall  f1-score   support\n",
      "\n",
      "           0       0.97      0.72      0.83       176\n",
      "           1       0.29      0.83      0.43        24\n",
      "\n",
      "    accuracy                           0.73       200\n",
      "   macro avg       0.63      0.78      0.63       200\n",
      "weighted avg       0.89      0.73      0.78       200\n",
      "\n",
      "*****************************************\n"
     ]
    }
   ],
   "source": [
    "X=ndf.drop('Attrition', axis=1)\n",
    "y=ndf['Attrition']\n",
    "\n",
    "num =X.select_dtypes(include=['float64', 'int64']).columns\n",
    "cat= X.select_dtypes(include=['object', 'bool']).columns\n",
    "\n",
    "classifiers = {'RandomForest': RandomForestClassifier(n_estimators=200, bootstrap=True,\n",
    "                            oob_score=True, random_state=43),\n",
    "               \"AdaBoost\": AdaBoostClassifier(),\n",
    "               \"LogisticRegression\":LogisticRegression(solver='lbfgs', max_iter=1000)}\n",
    "\n",
    "from imblearn.over_sampling import SMOTE\n",
    "from imblearn.pipeline import Pipeline\n",
    "\n",
    "\n",
    "sm= SMOTE(random_state=42)\n",
    "ct = ColumnTransformer(  [(\"cats\", OneHotEncoder(), cat),  (\"nums\", MinMaxScaler(),num)])\n",
    "\n",
    "modelresults = {}   #a dictionary to hold the results of each model\n",
    "\n",
    "for modelname, model in classifiers.items():\n",
    "    pipeline =  Pipeline([('preprocess', ct), ('smote', sm), ('classifier', model)])\n",
    "    X_train, X_test, y_train, y_test = train_test_split(X, y, test_size=0.2, random_state=0)\n",
    "    #model =\n",
    "    pipeline =pipeline.fit(X_train, y_train) #model= ''''''\n",
    "    pred = pipeline.predict(X_test) #model\n",
    "    acc= round(pipeline.score(X_test, y_test)*100, 2) #model\n",
    "    prob=pipeline.predict_proba(X_test)#model\n",
    "    modelresults[modelname] = {\n",
    "        'accuracy': acc,\n",
    "        'predictions': pred,\n",
    "        \"probability\": prob[:, 1],\n",
    "        \"model\": pipeline   # model\n",
    "    }\n",
    "    print(modelname)\n",
    "    print(f\"model accuracy - {modelresults[modelname]['accuracy']}\")\n",
    "    print(f\"model AUC-ROC  { roc_auc_score(y_test,  modelresults[modelname]['probability']) }\")\n",
    "    print(classification_report(y_test, modelresults[modelname]['predictions']) )\n",
    "    print('*****************************************')"
   ]
  },
  {
   "cell_type": "code",
   "execution_count": 36,
   "id": "45e71536",
   "metadata": {
    "execution": {
     "iopub.execute_input": "2023-12-06T11:18:03.421023Z",
     "iopub.status.busy": "2023-12-06T11:18:03.420176Z",
     "iopub.status.idle": "2023-12-06T11:18:03.426665Z",
     "shell.execute_reply": "2023-12-06T11:18:03.425784Z"
    },
    "papermill": {
     "duration": 0.054809,
     "end_time": "2023-12-06T11:18:03.428902",
     "exception": false,
     "start_time": "2023-12-06T11:18:03.374093",
     "status": "completed"
    },
    "tags": []
   },
   "outputs": [
    {
     "data": {
      "text/plain": [
       "((200, 17), (1119, 17))"
      ]
     },
     "execution_count": 36,
     "metadata": {},
     "output_type": "execute_result"
    }
   ],
   "source": [
    "X_test.shape, test.shape"
   ]
  },
  {
   "cell_type": "code",
   "execution_count": 37,
   "id": "c7fbd2b8",
   "metadata": {
    "execution": {
     "iopub.execute_input": "2023-12-06T11:18:03.519200Z",
     "iopub.status.busy": "2023-12-06T11:18:03.518455Z",
     "iopub.status.idle": "2023-12-06T11:18:03.564330Z",
     "shell.execute_reply": "2023-12-06T11:18:03.563248Z"
    },
    "papermill": {
     "duration": 0.093855,
     "end_time": "2023-12-06T11:18:03.566737",
     "exception": false,
     "start_time": "2023-12-06T11:18:03.472882",
     "status": "completed"
    },
    "tags": []
   },
   "outputs": [
    {
     "data": {
      "text/html": [
       "<style>#sk-container-id-1 {color: black;background-color: white;}#sk-container-id-1 pre{padding: 0;}#sk-container-id-1 div.sk-toggleable {background-color: white;}#sk-container-id-1 label.sk-toggleable__label {cursor: pointer;display: block;width: 100%;margin-bottom: 0;padding: 0.3em;box-sizing: border-box;text-align: center;}#sk-container-id-1 label.sk-toggleable__label-arrow:before {content: \"▸\";float: left;margin-right: 0.25em;color: #696969;}#sk-container-id-1 label.sk-toggleable__label-arrow:hover:before {color: black;}#sk-container-id-1 div.sk-estimator:hover label.sk-toggleable__label-arrow:before {color: black;}#sk-container-id-1 div.sk-toggleable__content {max-height: 0;max-width: 0;overflow: hidden;text-align: left;background-color: #f0f8ff;}#sk-container-id-1 div.sk-toggleable__content pre {margin: 0.2em;color: black;border-radius: 0.25em;background-color: #f0f8ff;}#sk-container-id-1 input.sk-toggleable__control:checked~div.sk-toggleable__content {max-height: 200px;max-width: 100%;overflow: auto;}#sk-container-id-1 input.sk-toggleable__control:checked~label.sk-toggleable__label-arrow:before {content: \"▾\";}#sk-container-id-1 div.sk-estimator input.sk-toggleable__control:checked~label.sk-toggleable__label {background-color: #d4ebff;}#sk-container-id-1 div.sk-label input.sk-toggleable__control:checked~label.sk-toggleable__label {background-color: #d4ebff;}#sk-container-id-1 input.sk-hidden--visually {border: 0;clip: rect(1px 1px 1px 1px);clip: rect(1px, 1px, 1px, 1px);height: 1px;margin: -1px;overflow: hidden;padding: 0;position: absolute;width: 1px;}#sk-container-id-1 div.sk-estimator {font-family: monospace;background-color: #f0f8ff;border: 1px dotted black;border-radius: 0.25em;box-sizing: border-box;margin-bottom: 0.5em;}#sk-container-id-1 div.sk-estimator:hover {background-color: #d4ebff;}#sk-container-id-1 div.sk-parallel-item::after {content: \"\";width: 100%;border-bottom: 1px solid gray;flex-grow: 1;}#sk-container-id-1 div.sk-label:hover label.sk-toggleable__label {background-color: #d4ebff;}#sk-container-id-1 div.sk-serial::before {content: \"\";position: absolute;border-left: 1px solid gray;box-sizing: border-box;top: 0;bottom: 0;left: 50%;z-index: 0;}#sk-container-id-1 div.sk-serial {display: flex;flex-direction: column;align-items: center;background-color: white;padding-right: 0.2em;padding-left: 0.2em;position: relative;}#sk-container-id-1 div.sk-item {position: relative;z-index: 1;}#sk-container-id-1 div.sk-parallel {display: flex;align-items: stretch;justify-content: center;background-color: white;position: relative;}#sk-container-id-1 div.sk-item::before, #sk-container-id-1 div.sk-parallel-item::before {content: \"\";position: absolute;border-left: 1px solid gray;box-sizing: border-box;top: 0;bottom: 0;left: 50%;z-index: -1;}#sk-container-id-1 div.sk-parallel-item {display: flex;flex-direction: column;z-index: 1;position: relative;background-color: white;}#sk-container-id-1 div.sk-parallel-item:first-child::after {align-self: flex-end;width: 50%;}#sk-container-id-1 div.sk-parallel-item:last-child::after {align-self: flex-start;width: 50%;}#sk-container-id-1 div.sk-parallel-item:only-child::after {width: 0;}#sk-container-id-1 div.sk-dashed-wrapped {border: 1px dashed gray;margin: 0 0.4em 0.5em 0.4em;box-sizing: border-box;padding-bottom: 0.4em;background-color: white;}#sk-container-id-1 div.sk-label label {font-family: monospace;font-weight: bold;display: inline-block;line-height: 1.2em;}#sk-container-id-1 div.sk-label-container {text-align: center;}#sk-container-id-1 div.sk-container {/* jupyter's `normalize.less` sets `[hidden] { display: none; }` but bootstrap.min.css set `[hidden] { display: none !important; }` so we also need the `!important` here to be able to override the default hidden behavior on the sphinx rendered scikit-learn.org. See: https://github.com/scikit-learn/scikit-learn/issues/21755 */display: inline-block !important;position: relative;}#sk-container-id-1 div.sk-text-repr-fallback {display: none;}</style><div id=\"sk-container-id-1\" class=\"sk-top-container\"><div class=\"sk-text-repr-fallback\"><pre>Pipeline(steps=[(&#x27;preprocess&#x27;,\n",
       "                 ColumnTransformer(transformers=[(&#x27;cats&#x27;, OneHotEncoder(),\n",
       "                                                  Index([&#x27;OverTime&#x27;, &#x27;JobRole&#x27;, &#x27;EducationField&#x27;, &#x27;MaritalStatus&#x27;, &#x27;Gender&#x27;], dtype=&#x27;object&#x27;)),\n",
       "                                                 (&#x27;nums&#x27;, MinMaxScaler(),\n",
       "                                                  Index([&#x27;Age&#x27;, &#x27;DailyRate&#x27;, &#x27;DistanceFromHome&#x27;, &#x27;HourlyRate&#x27;, &#x27;MonthlyRate&#x27;,\n",
       "       &#x27;StockOptionLevel&#x27;, &#x27;YearsAtCompany&#x27;, &#x27;NumCompaniesWorked&#x27;,\n",
       "       &#x27;RelationshipSatisfaction&#x27;, &#x27;YearsSinceLastPromotion&#x27;,\n",
       "       &#x27;TrainingTimesLastYear&#x27;, &#x27;JobLevel&#x27;],\n",
       "      dtype=&#x27;object&#x27;))])),\n",
       "                (&#x27;smote&#x27;, SMOTE(random_state=42)),\n",
       "                (&#x27;classifier&#x27;, AdaBoostClassifier())])</pre><b>In a Jupyter environment, please rerun this cell to show the HTML representation or trust the notebook. <br />On GitHub, the HTML representation is unable to render, please try loading this page with nbviewer.org.</b></div><div class=\"sk-container\" hidden><div class=\"sk-item sk-dashed-wrapped\"><div class=\"sk-label-container\"><div class=\"sk-label sk-toggleable\"><input class=\"sk-toggleable__control sk-hidden--visually\" id=\"sk-estimator-id-1\" type=\"checkbox\" ><label for=\"sk-estimator-id-1\" class=\"sk-toggleable__label sk-toggleable__label-arrow\">Pipeline</label><div class=\"sk-toggleable__content\"><pre>Pipeline(steps=[(&#x27;preprocess&#x27;,\n",
       "                 ColumnTransformer(transformers=[(&#x27;cats&#x27;, OneHotEncoder(),\n",
       "                                                  Index([&#x27;OverTime&#x27;, &#x27;JobRole&#x27;, &#x27;EducationField&#x27;, &#x27;MaritalStatus&#x27;, &#x27;Gender&#x27;], dtype=&#x27;object&#x27;)),\n",
       "                                                 (&#x27;nums&#x27;, MinMaxScaler(),\n",
       "                                                  Index([&#x27;Age&#x27;, &#x27;DailyRate&#x27;, &#x27;DistanceFromHome&#x27;, &#x27;HourlyRate&#x27;, &#x27;MonthlyRate&#x27;,\n",
       "       &#x27;StockOptionLevel&#x27;, &#x27;YearsAtCompany&#x27;, &#x27;NumCompaniesWorked&#x27;,\n",
       "       &#x27;RelationshipSatisfaction&#x27;, &#x27;YearsSinceLastPromotion&#x27;,\n",
       "       &#x27;TrainingTimesLastYear&#x27;, &#x27;JobLevel&#x27;],\n",
       "      dtype=&#x27;object&#x27;))])),\n",
       "                (&#x27;smote&#x27;, SMOTE(random_state=42)),\n",
       "                (&#x27;classifier&#x27;, AdaBoostClassifier())])</pre></div></div></div><div class=\"sk-serial\"><div class=\"sk-item sk-dashed-wrapped\"><div class=\"sk-label-container\"><div class=\"sk-label sk-toggleable\"><input class=\"sk-toggleable__control sk-hidden--visually\" id=\"sk-estimator-id-2\" type=\"checkbox\" ><label for=\"sk-estimator-id-2\" class=\"sk-toggleable__label sk-toggleable__label-arrow\">preprocess: ColumnTransformer</label><div class=\"sk-toggleable__content\"><pre>ColumnTransformer(transformers=[(&#x27;cats&#x27;, OneHotEncoder(),\n",
       "                                 Index([&#x27;OverTime&#x27;, &#x27;JobRole&#x27;, &#x27;EducationField&#x27;, &#x27;MaritalStatus&#x27;, &#x27;Gender&#x27;], dtype=&#x27;object&#x27;)),\n",
       "                                (&#x27;nums&#x27;, MinMaxScaler(),\n",
       "                                 Index([&#x27;Age&#x27;, &#x27;DailyRate&#x27;, &#x27;DistanceFromHome&#x27;, &#x27;HourlyRate&#x27;, &#x27;MonthlyRate&#x27;,\n",
       "       &#x27;StockOptionLevel&#x27;, &#x27;YearsAtCompany&#x27;, &#x27;NumCompaniesWorked&#x27;,\n",
       "       &#x27;RelationshipSatisfaction&#x27;, &#x27;YearsSinceLastPromotion&#x27;,\n",
       "       &#x27;TrainingTimesLastYear&#x27;, &#x27;JobLevel&#x27;],\n",
       "      dtype=&#x27;object&#x27;))])</pre></div></div></div><div class=\"sk-parallel\"><div class=\"sk-parallel-item\"><div class=\"sk-item\"><div class=\"sk-label-container\"><div class=\"sk-label sk-toggleable\"><input class=\"sk-toggleable__control sk-hidden--visually\" id=\"sk-estimator-id-3\" type=\"checkbox\" ><label for=\"sk-estimator-id-3\" class=\"sk-toggleable__label sk-toggleable__label-arrow\">cats</label><div class=\"sk-toggleable__content\"><pre>Index([&#x27;OverTime&#x27;, &#x27;JobRole&#x27;, &#x27;EducationField&#x27;, &#x27;MaritalStatus&#x27;, &#x27;Gender&#x27;], dtype=&#x27;object&#x27;)</pre></div></div></div><div class=\"sk-serial\"><div class=\"sk-item\"><div class=\"sk-estimator sk-toggleable\"><input class=\"sk-toggleable__control sk-hidden--visually\" id=\"sk-estimator-id-4\" type=\"checkbox\" ><label for=\"sk-estimator-id-4\" class=\"sk-toggleable__label sk-toggleable__label-arrow\">OneHotEncoder</label><div class=\"sk-toggleable__content\"><pre>OneHotEncoder()</pre></div></div></div></div></div></div><div class=\"sk-parallel-item\"><div class=\"sk-item\"><div class=\"sk-label-container\"><div class=\"sk-label sk-toggleable\"><input class=\"sk-toggleable__control sk-hidden--visually\" id=\"sk-estimator-id-5\" type=\"checkbox\" ><label for=\"sk-estimator-id-5\" class=\"sk-toggleable__label sk-toggleable__label-arrow\">nums</label><div class=\"sk-toggleable__content\"><pre>Index([&#x27;Age&#x27;, &#x27;DailyRate&#x27;, &#x27;DistanceFromHome&#x27;, &#x27;HourlyRate&#x27;, &#x27;MonthlyRate&#x27;,\n",
       "       &#x27;StockOptionLevel&#x27;, &#x27;YearsAtCompany&#x27;, &#x27;NumCompaniesWorked&#x27;,\n",
       "       &#x27;RelationshipSatisfaction&#x27;, &#x27;YearsSinceLastPromotion&#x27;,\n",
       "       &#x27;TrainingTimesLastYear&#x27;, &#x27;JobLevel&#x27;],\n",
       "      dtype=&#x27;object&#x27;)</pre></div></div></div><div class=\"sk-serial\"><div class=\"sk-item\"><div class=\"sk-estimator sk-toggleable\"><input class=\"sk-toggleable__control sk-hidden--visually\" id=\"sk-estimator-id-6\" type=\"checkbox\" ><label for=\"sk-estimator-id-6\" class=\"sk-toggleable__label sk-toggleable__label-arrow\">MinMaxScaler</label><div class=\"sk-toggleable__content\"><pre>MinMaxScaler()</pre></div></div></div></div></div></div></div></div><div class=\"sk-item\"><div class=\"sk-estimator sk-toggleable\"><input class=\"sk-toggleable__control sk-hidden--visually\" id=\"sk-estimator-id-7\" type=\"checkbox\" ><label for=\"sk-estimator-id-7\" class=\"sk-toggleable__label sk-toggleable__label-arrow\">SMOTE</label><div class=\"sk-toggleable__content\"><pre>SMOTE(random_state=42)</pre></div></div></div><div class=\"sk-item\"><div class=\"sk-estimator sk-toggleable\"><input class=\"sk-toggleable__control sk-hidden--visually\" id=\"sk-estimator-id-8\" type=\"checkbox\" ><label for=\"sk-estimator-id-8\" class=\"sk-toggleable__label sk-toggleable__label-arrow\">AdaBoostClassifier</label><div class=\"sk-toggleable__content\"><pre>AdaBoostClassifier()</pre></div></div></div></div></div></div></div>"
      ],
      "text/plain": [
       "Pipeline(steps=[('preprocess',\n",
       "                 ColumnTransformer(transformers=[('cats', OneHotEncoder(),\n",
       "                                                  Index(['OverTime', 'JobRole', 'EducationField', 'MaritalStatus', 'Gender'], dtype='object')),\n",
       "                                                 ('nums', MinMaxScaler(),\n",
       "                                                  Index(['Age', 'DailyRate', 'DistanceFromHome', 'HourlyRate', 'MonthlyRate',\n",
       "       'StockOptionLevel', 'YearsAtCompany', 'NumCompaniesWorked',\n",
       "       'RelationshipSatisfaction', 'YearsSinceLastPromotion',\n",
       "       'TrainingTimesLastYear', 'JobLevel'],\n",
       "      dtype='object'))])),\n",
       "                ('smote', SMOTE(random_state=42)),\n",
       "                ('classifier', AdaBoostClassifier())])"
      ]
     },
     "execution_count": 37,
     "metadata": {},
     "output_type": "execute_result"
    }
   ],
   "source": [
    "ada=modelresults['AdaBoost']['model']\n",
    "ada"
   ]
  },
  {
   "cell_type": "code",
   "execution_count": 38,
   "id": "568f6afd",
   "metadata": {
    "execution": {
     "iopub.execute_input": "2023-12-06T11:18:03.656905Z",
     "iopub.status.busy": "2023-12-06T11:18:03.656108Z",
     "iopub.status.idle": "2023-12-06T11:18:03.690939Z",
     "shell.execute_reply": "2023-12-06T11:18:03.690078Z"
    },
    "papermill": {
     "duration": 0.082292,
     "end_time": "2023-12-06T11:18:03.693194",
     "exception": false,
     "start_time": "2023-12-06T11:18:03.610902",
     "status": "completed"
    },
    "tags": []
   },
   "outputs": [
    {
     "data": {
      "text/plain": [
       "1119"
      ]
     },
     "execution_count": 38,
     "metadata": {},
     "output_type": "execute_result"
    }
   ],
   "source": [
    "prob = ada.predict_proba(test)[:,1]\n",
    "len(prob)"
   ]
  },
  {
   "cell_type": "code",
   "execution_count": 39,
   "id": "ea6f2d98",
   "metadata": {
    "execution": {
     "iopub.execute_input": "2023-12-06T11:18:03.782725Z",
     "iopub.status.busy": "2023-12-06T11:18:03.781993Z",
     "iopub.status.idle": "2023-12-06T11:18:03.805519Z",
     "shell.execute_reply": "2023-12-06T11:18:03.804289Z"
    },
    "papermill": {
     "duration": 0.07217,
     "end_time": "2023-12-06T11:18:03.808304",
     "exception": false,
     "start_time": "2023-12-06T11:18:03.736134",
     "status": "completed"
    },
    "tags": []
   },
   "outputs": [
    {
     "data": {
      "text/html": [
       "<div>\n",
       "<style scoped>\n",
       "    .dataframe tbody tr th:only-of-type {\n",
       "        vertical-align: middle;\n",
       "    }\n",
       "\n",
       "    .dataframe tbody tr th {\n",
       "        vertical-align: top;\n",
       "    }\n",
       "\n",
       "    .dataframe thead th {\n",
       "        text-align: right;\n",
       "    }\n",
       "</style>\n",
       "<table border=\"1\" class=\"dataframe\">\n",
       "  <thead>\n",
       "    <tr style=\"text-align: right;\">\n",
       "      <th></th>\n",
       "      <th>id</th>\n",
       "      <th>Attrition</th>\n",
       "    </tr>\n",
       "  </thead>\n",
       "  <tbody>\n",
       "    <tr>\n",
       "      <th>0</th>\n",
       "      <td>1677</td>\n",
       "      <td>0.49</td>\n",
       "    </tr>\n",
       "    <tr>\n",
       "      <th>1</th>\n",
       "      <td>1678</td>\n",
       "      <td>0.49</td>\n",
       "    </tr>\n",
       "    <tr>\n",
       "      <th>2</th>\n",
       "      <td>1679</td>\n",
       "      <td>0.48</td>\n",
       "    </tr>\n",
       "    <tr>\n",
       "      <th>3</th>\n",
       "      <td>1680</td>\n",
       "      <td>0.48</td>\n",
       "    </tr>\n",
       "    <tr>\n",
       "      <th>4</th>\n",
       "      <td>1681</td>\n",
       "      <td>0.51</td>\n",
       "    </tr>\n",
       "  </tbody>\n",
       "</table>\n",
       "</div>"
      ],
      "text/plain": [
       "     id  Attrition\n",
       "0  1677       0.49\n",
       "1  1678       0.49\n",
       "2  1679       0.48\n",
       "3  1680       0.48\n",
       "4  1681       0.51"
      ]
     },
     "execution_count": 39,
     "metadata": {},
     "output_type": "execute_result"
    }
   ],
   "source": [
    "test= pd.read_csv(\"/kaggle/input/bct-summit/test.csv\")\n",
    "output = pd.DataFrame({\"id\":test['id'], \"Attrition\":prob})\n",
    "\n",
    "output.head()"
   ]
  },
  {
   "cell_type": "code",
   "execution_count": 40,
   "id": "7692a1c6",
   "metadata": {
    "execution": {
     "iopub.execute_input": "2023-12-06T11:18:03.898329Z",
     "iopub.status.busy": "2023-12-06T11:18:03.897893Z",
     "iopub.status.idle": "2023-12-06T11:18:03.910683Z",
     "shell.execute_reply": "2023-12-06T11:18:03.909251Z"
    },
    "papermill": {
     "duration": 0.061119,
     "end_time": "2023-12-06T11:18:03.913876",
     "exception": false,
     "start_time": "2023-12-06T11:18:03.852757",
     "status": "completed"
    },
    "tags": []
   },
   "outputs": [],
   "source": [
    "output.to_csv(\"VictorJokanola_d5.csv\", index=False)"
   ]
  },
  {
   "cell_type": "markdown",
   "id": "8c0dd1e9",
   "metadata": {
    "papermill": {
     "duration": 0.043513,
     "end_time": "2023-12-06T11:18:04.001240",
     "exception": false,
     "start_time": "2023-12-06T11:18:03.957727",
     "status": "completed"
    },
    "tags": []
   },
   "source": [
    "## Using Cross Validation Over All the Dataset"
   ]
  },
  {
   "cell_type": "code",
   "execution_count": 41,
   "id": "e3993eb8",
   "metadata": {
    "execution": {
     "iopub.execute_input": "2023-12-06T11:18:04.090841Z",
     "iopub.status.busy": "2023-12-06T11:18:04.090371Z",
     "iopub.status.idle": "2023-12-06T11:18:04.096563Z",
     "shell.execute_reply": "2023-12-06T11:18:04.095476Z"
    },
    "papermill": {
     "duration": 0.054201,
     "end_time": "2023-12-06T11:18:04.099267",
     "exception": false,
     "start_time": "2023-12-06T11:18:04.045066",
     "status": "completed"
    },
    "tags": []
   },
   "outputs": [],
   "source": [
    "# #cross validation with the intial 30 variables without applying smote to imbalance class\n",
    "\n",
    "# X=data.drop('Attrition', axis=1)\n",
    "# y=data['Attrition']\n",
    "\n",
    "# num =X.select_dtypes(include=['float64', 'int64']).columns\n",
    "# cat= X.select_dtypes(include=['object', 'bool']).columns\n",
    "\n",
    "# classifiers = {\n",
    "#     'RandomForest': RandomForestClassifier(n_estimators=200, bootstrap=True,\n",
    "#                             oob_score=True, random_state=43),\n",
    "#     \"Ada\": AdaBoostClassifier(),\n",
    "#     #\"lSVC\":LinearSVC(),\n",
    "#      \"LogisticReg\":LogisticRegression(solver='lbfgs', max_iter=1000),\n",
    "#    #\"DecisionTree\":DecisionTreeClassifier(),\n",
    "#    #\"KNN\":KNeighborsClassifier()\n",
    "#   }\n",
    "# modelresults = {}\n",
    "\n",
    "# for modelname, model in classifiers.items():\n",
    "#     pipe = Pipeline([('transform', ct), ('classifier', model)])\n",
    "#     # define the model cross-validation configuration\n",
    "#     cv = KFold(n_splits=10, shuffle=True, random_state=1)\n",
    "#     # evaluate the pipeline using cross validation \n",
    "#     scores = cross_val_score(pipe, X, y, cv=cv,n_jobs=-1)\n",
    "#     acc= round(scores.mean()*100, 2)\n",
    "#     modelresults[modelname]= acc\n",
    "\n",
    "# print(modelresults)"
   ]
  },
  {
   "cell_type": "markdown",
   "id": "adde49b3",
   "metadata": {
    "papermill": {
     "duration": 0.042476,
     "end_time": "2023-12-06T11:18:04.185775",
     "exception": false,
     "start_time": "2023-12-06T11:18:04.143299",
     "status": "completed"
    },
    "tags": []
   },
   "source": [
    "## SMOTE"
   ]
  },
  {
   "cell_type": "markdown",
   "id": "29fb32bb",
   "metadata": {
    "papermill": {
     "duration": 0.042871,
     "end_time": "2023-12-06T11:18:04.271922",
     "exception": false,
     "start_time": "2023-12-06T11:18:04.229051",
     "status": "completed"
    },
    "tags": []
   },
   "source": [
    "* We tried four different model above, each gave accuarcy above 80%, however, this isn't reliable as such accuracy for an imblance dataset is only predicting the majority class.\n",
    "* This is reflected in a low recall of the minority class. \n",
    "* One way to address this short coming is to either undersample the majority class or oversample the minority class.\n",
    "* Smote implement a fit_resample method,  which isn't compactable with  pipeline from sklearn. This is because, Sklearn-pipeline support only transformations that implement a fit_transform method\n",
    "* Thus, we will be using make_pipeline or Pipeline from imblearn.pipeline to over come this challenge."
   ]
  },
  {
   "cell_type": "markdown",
   "id": "0d8050e7",
   "metadata": {
    "papermill": {
     "duration": 0.04302,
     "end_time": "2023-12-06T11:18:04.358317",
     "exception": false,
     "start_time": "2023-12-06T11:18:04.315297",
     "status": "completed"
    },
    "tags": []
   },
   "source": [
    "* Applying smote has increase the recall of some of the models. Although this has also led to decrease in overall accuracy"
   ]
  },
  {
   "cell_type": "code",
   "execution_count": 42,
   "id": "511360b4",
   "metadata": {
    "execution": {
     "iopub.execute_input": "2023-12-06T11:18:04.447909Z",
     "iopub.status.busy": "2023-12-06T11:18:04.447478Z",
     "iopub.status.idle": "2023-12-06T11:18:04.452614Z",
     "shell.execute_reply": "2023-12-06T11:18:04.450991Z"
    },
    "papermill": {
     "duration": 0.053658,
     "end_time": "2023-12-06T11:18:04.455372",
     "exception": false,
     "start_time": "2023-12-06T11:18:04.401714",
     "status": "completed"
    },
    "tags": []
   },
   "outputs": [],
   "source": [
    "# lrs=newresults2['LogisticReg']['model']"
   ]
  },
  {
   "cell_type": "markdown",
   "id": "9d04e658",
   "metadata": {
    "papermill": {
     "duration": 0.043511,
     "end_time": "2023-12-06T11:18:04.544017",
     "exception": false,
     "start_time": "2023-12-06T11:18:04.500506",
     "status": "completed"
    },
    "tags": []
   },
   "source": [
    "## XGBOOST"
   ]
  },
  {
   "cell_type": "code",
   "execution_count": 43,
   "id": "73a13678",
   "metadata": {
    "execution": {
     "iopub.execute_input": "2023-12-06T11:18:04.633540Z",
     "iopub.status.busy": "2023-12-06T11:18:04.633139Z",
     "iopub.status.idle": "2023-12-06T11:18:04.637854Z",
     "shell.execute_reply": "2023-12-06T11:18:04.636774Z"
    },
    "papermill": {
     "duration": 0.052438,
     "end_time": "2023-12-06T11:18:04.640017",
     "exception": false,
     "start_time": "2023-12-06T11:18:04.587579",
     "status": "completed"
    },
    "tags": []
   },
   "outputs": [],
   "source": [
    "# data= pd.read_csv(\"/kaggle/input/bct-summit/train.csv\")\n",
    "# df1 = data.drop(col_to_drop, axis=1)\n",
    "# X=df1.drop('Attrition', axis=1)\n",
    "# y=df1['Attrition']\n",
    "# num =X.select_dtypes(include=['float64', 'int64']).columns\n",
    "# cat= X.select_dtypes(include=['object', 'bool']).columns"
   ]
  },
  {
   "cell_type": "code",
   "execution_count": 44,
   "id": "7d26a794",
   "metadata": {
    "execution": {
     "iopub.execute_input": "2023-12-06T11:18:04.730692Z",
     "iopub.status.busy": "2023-12-06T11:18:04.730286Z",
     "iopub.status.idle": "2023-12-06T11:18:04.735486Z",
     "shell.execute_reply": "2023-12-06T11:18:04.734364Z"
    },
    "papermill": {
     "duration": 0.053121,
     "end_time": "2023-12-06T11:18:04.738122",
     "exception": false,
     "start_time": "2023-12-06T11:18:04.685001",
     "status": "completed"
    },
    "tags": []
   },
   "outputs": [],
   "source": [
    "# for col in cat:\n",
    "#     X[cat] = X[cat].astype(\"category\")\n",
    "    \n",
    "# from xgboost import XGBClassifier\n",
    "# X_train, X_test, y_train, y_test = train_test_split(X, y, test_size=.2)\n",
    "# # create model instance\n",
    "# #bst = XGBClassifier(n_estimators=2, max_depth=2, learning_rate=1, objective='binary:logistic')\n",
    "# clf = XGBClassifier(tree_method=\"hist\", enable_categorical=True)\n",
    "# # fit model\n",
    "# clf.fit(X_train, y_train)\n",
    "# # make predictions\n",
    "# preds = clf.predict(X_test)\n",
    "# acc= clf.score(X_test, y_test)\n",
    "# print(acc)\n",
    "# importance =clf.feature_importances_\n",
    "# print(importance)"
   ]
  },
  {
   "cell_type": "code",
   "execution_count": 45,
   "id": "02b44111",
   "metadata": {
    "execution": {
     "iopub.execute_input": "2023-12-06T11:18:04.829135Z",
     "iopub.status.busy": "2023-12-06T11:18:04.828699Z",
     "iopub.status.idle": "2023-12-06T11:18:04.833788Z",
     "shell.execute_reply": "2023-12-06T11:18:04.832529Z"
    },
    "papermill": {
     "duration": 0.053023,
     "end_time": "2023-12-06T11:18:04.836289",
     "exception": false,
     "start_time": "2023-12-06T11:18:04.783266",
     "status": "completed"
    },
    "tags": []
   },
   "outputs": [],
   "source": [
    "# for i,v in enumerate(importance):\n",
    "#     print('Feature: %0d, Score: %.5f' % (i,v))\n",
    "# # plot feature importance\n",
    "# plt.bar([x for x in range(len(importance))], importance)\n",
    "# plt.show()\n"
   ]
  },
  {
   "cell_type": "code",
   "execution_count": null,
   "id": "e0d9269e",
   "metadata": {
    "papermill": {
     "duration": 0.043908,
     "end_time": "2023-12-06T11:18:04.924401",
     "exception": false,
     "start_time": "2023-12-06T11:18:04.880493",
     "status": "completed"
    },
    "tags": []
   },
   "outputs": [],
   "source": []
  }
 ],
 "metadata": {
  "kaggle": {
   "accelerator": "none",
   "dataSources": [
    {
     "databundleVersionId": 7009852,
     "sourceId": 64007,
     "sourceType": "competition"
    }
   ],
   "dockerImageVersionId": 30587,
   "isGpuEnabled": false,
   "isInternetEnabled": true,
   "language": "python",
   "sourceType": "notebook"
  },
  "kernelspec": {
   "display_name": "Python 3",
   "language": "python",
   "name": "python3"
  },
  "language_info": {
   "codemirror_mode": {
    "name": "ipython",
    "version": 3
   },
   "file_extension": ".py",
   "mimetype": "text/x-python",
   "name": "python",
   "nbconvert_exporter": "python",
   "pygments_lexer": "ipython3",
   "version": "3.10.12"
  },
  "papermill": {
   "default_parameters": {},
   "duration": 90.186144,
   "end_time": "2023-12-06T11:18:06.192337",
   "environment_variables": {},
   "exception": null,
   "input_path": "__notebook__.ipynb",
   "output_path": "__notebook__.ipynb",
   "parameters": {},
   "start_time": "2023-12-06T11:16:36.006193",
   "version": "2.4.0"
  }
 },
 "nbformat": 4,
 "nbformat_minor": 5
}
